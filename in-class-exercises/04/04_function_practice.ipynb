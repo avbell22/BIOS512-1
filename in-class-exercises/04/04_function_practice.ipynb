{
 "cells": [
  {
   "cell_type": "markdown",
   "id": "95a45cfe-35ec-405c-91c4-04cb67abb0e0",
   "metadata": {},
   "source": [
    "Load the libraries below."
   ]
  },
  {
   "cell_type": "code",
   "execution_count": null,
   "id": "0ffce67e-b70e-418b-b761-ed0f4d0bf23b",
   "metadata": {},
   "outputs": [],
   "source": [
    "# library(\"tidyverse\")\n",
    "# library(\"jsonlite\")\n",
    "# library(\"lubridate\")"
   ]
  },
  {
   "cell_type": "markdown",
   "id": "925a4169-5f9d-44c3-a2ec-bb27152fb4b4",
   "metadata": {},
   "source": [
    "This function `get_data` will get the new case counts over time from Utah.  "
   ]
  },
  {
   "cell_type": "code",
   "execution_count": null,
   "id": "e5c4cf8e-cea8-46be-ab2b-9a98375f922c",
   "metadata": {},
   "outputs": [],
   "source": [
    "get_data = function() {\n",
    "    \n",
    "    state = \"UT\" # two letter state code \n",
    "    \n",
    "    endpoint = paste0(\"https://data.cdc.gov/resource/9mfq-cb36.json?state=\", state)\n",
    "    \n",
    "    # Don't worry about this part for the moment👇\n",
    "    df = fromJSON(url(endpoint)) %>% \n",
    "        mutate(date = as_date(submission_date),\n",
    "               new_cases = as.numeric(new_case)) %>%\n",
    "        select(date, new_cases, state) %>%\n",
    "        arrange(date)\n",
    "    \n",
    "    return(df)\n",
    "    \n",
    "    }"
   ]
  },
  {
   "cell_type": "markdown",
   "id": "7537c6b6-ac82-420a-9f33-34709f533c09",
   "metadata": {},
   "source": [
    "Adjust the function above to take a state code as an argument and to set the `state` variable inside the function to the value of the argument."
   ]
  },
  {
   "cell_type": "markdown",
   "id": "a3575ca0-21c1-42fd-b20b-10dbc5c84454",
   "metadata": {},
   "source": [
    "Hint: here is an example of a function that just takes an argument called `state_code`."
   ]
  },
  {
   "cell_type": "markdown",
   "id": "8a960584-1b8f-44c4-8597-63e1ca42048c",
   "metadata": {},
   "source": [
    "```R\n",
    "state_code_function = function(state_code) {\n",
    "    \n",
    "    state = state_code\n",
    "    \n",
    "    return(state)\n",
    "    \n",
    "}\n",
    "```"
   ]
  },
  {
   "cell_type": "markdown",
   "id": "561adaab-0caf-4585-88b0-b67a93031b5f",
   "metadata": {},
   "source": [
    "Use your function to plot new cases over time for any state."
   ]
  },
  {
   "cell_type": "code",
   "execution_count": null,
   "id": "851e841f-d8a6-4740-b4d2-66dc466b4c22",
   "metadata": {},
   "outputs": [],
   "source": [
    "# options(repr.plot.width=7, repr.plot.height=3, repr.plot.res=300)\n",
    "\n",
    "# df = get_data(\"NC\")\n",
    "\n",
    "# p = ggplot(df_UT, aes(x = date, y = new_cases))\n",
    "\n",
    "# p = p + geom_col(width = 1)\n",
    "\n",
    "# p"
   ]
  }
 ],
 "metadata": {
  "kernelspec": {
   "display_name": "R",
   "language": "R",
   "name": "ir"
  },
  "language_info": {
   "codemirror_mode": "r",
   "file_extension": ".r",
   "mimetype": "text/x-r-source",
   "name": "R",
   "pygments_lexer": "r",
   "version": "4.1.1"
  }
 },
 "nbformat": 4,
 "nbformat_minor": 5
}
