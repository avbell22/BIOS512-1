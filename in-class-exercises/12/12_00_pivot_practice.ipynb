{
 "cells": [
  {
   "cell_type": "markdown",
   "metadata": {},
   "source": [
    "Using the following data,"
   ]
  },
  {
   "cell_type": "code",
   "execution_count": null,
   "metadata": {},
   "outputs": [],
   "source": [
    "# Load the Tidyverse\n",
    "\n",
    "#library('tidyverse')"
   ]
  },
  {
   "cell_type": "code",
   "execution_count": 1,
   "metadata": {},
   "outputs": [],
   "source": [
    "# From http://stackoverflow.com/questions/1181060\n",
    "# stocks = tibble(\n",
    "#   time = as.Date('2009-01-01') + 0:999,\n",
    "#   X = rnorm(1000, 0.35, 1),\n",
    "#   Y = rnorm(1000, 0, 2),\n",
    "#   Z = rnorm(1000, 2, 4)\n",
    "# )\n",
    "\n",
    "# stocks %>% print"
   ]
  },
  {
   "cell_type": "markdown",
   "metadata": {},
   "source": [
    "Re-create the following figure:\n",
    "\n",
    "(*Hints: use* `pivot_longer` *to re-shape the data.*)"
   ]
  },
  {
   "cell_type": "markdown",
   "metadata": {},
   "source": [
    "<img src=\"figs/stock_gather.png\" style=\"width: 500px;\" />"
   ]
  },
  {
   "cell_type": "code",
   "execution_count": null,
   "metadata": {},
   "outputs": [],
   "source": []
  }
 ],
 "metadata": {
  "kernelspec": {
   "display_name": "R",
   "language": "R",
   "name": "ir"
  },
  "language_info": {
   "codemirror_mode": "r",
   "file_extension": ".r",
   "mimetype": "text/x-r-source",
   "name": "R",
   "pygments_lexer": "r",
   "version": "4.0.0"
  }
 },
 "nbformat": 4,
 "nbformat_minor": 4
}
