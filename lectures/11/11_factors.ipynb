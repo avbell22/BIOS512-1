{
 "cells": [
  {
   "cell_type": "code",
   "execution_count": 5,
   "metadata": {
    "slideshow": {
     "slide_type": "slide"
    }
   },
   "outputs": [
    {
     "name": "stderr",
     "output_type": "stream",
     "text": [
      "── \u001b[1mAttaching packages\u001b[22m ─────────────────────────────────────── tidyverse 1.3.0 ──\n",
      "\n",
      "\u001b[32m✔\u001b[39m \u001b[34mggplot2\u001b[39m 3.3.2     \u001b[32m✔\u001b[39m \u001b[34mpurrr  \u001b[39m 0.3.4\n",
      "\u001b[32m✔\u001b[39m \u001b[34mtibble \u001b[39m 3.0.4     \u001b[32m✔\u001b[39m \u001b[34mdplyr  \u001b[39m 1.0.2\n",
      "\u001b[32m✔\u001b[39m \u001b[34mtidyr  \u001b[39m 1.1.1     \u001b[32m✔\u001b[39m \u001b[34mstringr\u001b[39m 1.4.0\n",
      "\u001b[32m✔\u001b[39m \u001b[34mreadr  \u001b[39m 1.3.1     \u001b[32m✔\u001b[39m \u001b[34mforcats\u001b[39m 0.5.0\n",
      "\n",
      "── \u001b[1mConflicts\u001b[22m ────────────────────────────────────────── tidyverse_conflicts() ──\n",
      "\u001b[31m✖\u001b[39m \u001b[34mdplyr\u001b[39m::\u001b[32mfilter()\u001b[39m masks \u001b[34mstats\u001b[39m::filter()\n",
      "\u001b[31m✖\u001b[39m \u001b[34mdplyr\u001b[39m::\u001b[32mlag()\u001b[39m    masks \u001b[34mstats\u001b[39m::lag()\n",
      "\n"
     ]
    }
   ],
   "source": [
    "library('tidyverse')\n",
    "\n",
    "options(repr.plot.width = 4, repr.plot.height = 3, repr.plot.res = 300)"
   ]
  },
  {
   "cell_type": "markdown",
   "metadata": {
    "slideshow": {
     "slide_type": "slide"
    }
   },
   "source": [
    "# Strings"
   ]
  },
  {
   "cell_type": "code",
   "execution_count": 31,
   "metadata": {
    "slideshow": {
     "slide_type": "slide"
    }
   },
   "outputs": [
    {
     "data": {
      "text/html": [
       "'something'"
      ],
      "text/latex": [
       "'something'"
      ],
      "text/markdown": [
       "'something'"
      ],
      "text/plain": [
       "[1] \"something\""
      ]
     },
     "metadata": {},
     "output_type": "display_data"
    }
   ],
   "source": [
    "this_is_a_string = \"something\"\n",
    "\n",
    "this_is_a_string"
   ]
  },
  {
   "cell_type": "markdown",
   "metadata": {
    "slideshow": {
     "slide_type": "slide"
    }
   },
   "source": [
    "# Numbers"
   ]
  },
  {
   "cell_type": "code",
   "execution_count": 36,
   "metadata": {},
   "outputs": [
    {
     "data": {
      "text/html": [
       "12"
      ],
      "text/latex": [
       "12"
      ],
      "text/markdown": [
       "12"
      ],
      "text/plain": [
       "[1] 12"
      ]
     },
     "metadata": {},
     "output_type": "display_data"
    }
   ],
   "source": [
    "this_is_a_number = 12\n",
    "\n",
    "this_is_a_number"
   ]
  },
  {
   "cell_type": "markdown",
   "metadata": {
    "slideshow": {
     "slide_type": "slide"
    }
   },
   "source": [
    "# Booleans"
   ]
  },
  {
   "cell_type": "code",
   "execution_count": 4,
   "metadata": {
    "slideshow": {
     "slide_type": "slide"
    }
   },
   "outputs": [
    {
     "data": {
      "text/html": [
       "TRUE"
      ],
      "text/latex": [
       "TRUE"
      ],
      "text/markdown": [
       "TRUE"
      ],
      "text/plain": [
       "[1] TRUE"
      ]
     },
     "metadata": {},
     "output_type": "display_data"
    }
   ],
   "source": [
    "this_is_a_boolean = TRUE\n",
    "\n",
    "this_is_a_boolean"
   ]
  },
  {
   "cell_type": "markdown",
   "metadata": {
    "slideshow": {
     "slide_type": "slide"
    }
   },
   "source": [
    "# Vectors"
   ]
  },
  {
   "cell_type": "code",
   "execution_count": 5,
   "metadata": {
    "slideshow": {
     "slide_type": "slide"
    }
   },
   "outputs": [],
   "source": [
    "a = 'a'"
   ]
  },
  {
   "cell_type": "code",
   "execution_count": 6,
   "metadata": {
    "slideshow": {
     "slide_type": "slide"
    }
   },
   "outputs": [
    {
     "name": "stdout",
     "output_type": "stream",
     "text": [
      "[1] \"a\"\n"
     ]
    }
   ],
   "source": [
    "print(a)"
   ]
  },
  {
   "cell_type": "markdown",
   "metadata": {
    "slideshow": {
     "slide_type": "slide"
    }
   },
   "source": [
    "### 🚨`c` is a function 🚨"
   ]
  },
  {
   "cell_type": "code",
   "execution_count": 7,
   "metadata": {
    "slideshow": {
     "slide_type": "slide"
    }
   },
   "outputs": [],
   "source": [
    "b = c('a', 'b')"
   ]
  },
  {
   "cell_type": "code",
   "execution_count": 39,
   "metadata": {
    "slideshow": {
     "slide_type": "slide"
    }
   },
   "outputs": [
    {
     "name": "stdout",
     "output_type": "stream",
     "text": [
      "[1] \"a\" \"b\" \"b\"\n"
     ]
    }
   ],
   "source": [
    "print(b)"
   ]
  },
  {
   "cell_type": "markdown",
   "metadata": {
    "slideshow": {
     "slide_type": "slide"
    }
   },
   "source": [
    "# Data Frames and Tibbles"
   ]
  },
  {
   "cell_type": "markdown",
   "metadata": {
    "slideshow": {
     "slide_type": "slide"
    }
   },
   "source": [
    "```\n",
    "Tibble (or Data Frame)\n",
    "    Vectors\n",
    "        Strings/Numbers/Booleans\n",
    "```"
   ]
  },
  {
   "cell_type": "code",
   "execution_count": 6,
   "metadata": {},
   "outputs": [
    {
     "data": {
      "text/html": [
       "<table>\n",
       "<caption>A tibble: 3 × 2</caption>\n",
       "<thead>\n",
       "\t<tr><th scope=col>this_is_a_bool_column</th><th scope=col>another_column</th></tr>\n",
       "\t<tr><th scope=col>&lt;chr&gt;</th><th scope=col>&lt;dbl&gt;</th></tr>\n",
       "</thead>\n",
       "<tbody>\n",
       "\t<tr><td>TRUE </td><td>1</td></tr>\n",
       "\t<tr><td>FALSE</td><td>2</td></tr>\n",
       "\t<tr><td>FALSE</td><td>3</td></tr>\n",
       "</tbody>\n",
       "</table>\n"
      ],
      "text/latex": [
       "A tibble: 3 × 2\n",
       "\\begin{tabular}{ll}\n",
       " this\\_is\\_a\\_bool\\_column & another\\_column\\\\\n",
       " <chr> & <dbl>\\\\\n",
       "\\hline\n",
       "\t TRUE  & 1\\\\\n",
       "\t FALSE & 2\\\\\n",
       "\t FALSE & 3\\\\\n",
       "\\end{tabular}\n"
      ],
      "text/markdown": [
       "\n",
       "A tibble: 3 × 2\n",
       "\n",
       "| this_is_a_bool_column &lt;chr&gt; | another_column &lt;dbl&gt; |\n",
       "|---|---|\n",
       "| TRUE  | 1 |\n",
       "| FALSE | 2 |\n",
       "| FALSE | 3 |\n",
       "\n"
      ],
      "text/plain": [
       "  this_is_a_bool_column another_column\n",
       "1 TRUE                  1             \n",
       "2 FALSE                 2             \n",
       "3 FALSE                 3             "
      ]
     },
     "metadata": {},
     "output_type": "display_data"
    }
   ],
   "source": [
    "this_is_a_tibble = tibble(\n",
    "    this_is_a_bool_column = c('TRUE', 'FALSE', 'FALSE'),\n",
    "    another_column = c(1, 2, 3)\n",
    ")\n",
    "\n",
    "this_is_a_tibble  # try with data.frame"
   ]
  },
  {
   "cell_type": "markdown",
   "metadata": {
    "slideshow": {
     "slide_type": "slide"
    }
   },
   "source": [
    "# Factors"
   ]
  },
  {
   "cell_type": "code",
   "execution_count": 43,
   "metadata": {
    "slideshow": {
     "slide_type": "slide"
    }
   },
   "outputs": [],
   "source": [
    "b = c('a', 'b', 'b')"
   ]
  },
  {
   "cell_type": "code",
   "execution_count": 44,
   "metadata": {
    "slideshow": {
     "slide_type": "slide"
    }
   },
   "outputs": [
    {
     "name": "stdout",
     "output_type": "stream",
     "text": [
      "[1] \"a\" \"b\" \"b\"\n"
     ]
    }
   ],
   "source": [
    "print(b)"
   ]
  },
  {
   "cell_type": "code",
   "execution_count": 45,
   "metadata": {
    "slideshow": {
     "slide_type": "slide"
    }
   },
   "outputs": [
    {
     "data": {
      "text/html": [
       "<style>\n",
       ".list-inline {list-style: none; margin:0; padding: 0}\n",
       ".list-inline>li {display: inline-block}\n",
       ".list-inline>li:not(:last-child)::after {content: \"\\00b7\"; padding: 0 .5ex}\n",
       "</style>\n",
       "<ol class=list-inline><li>a</li><li>b</li><li>b</li></ol>\n",
       "\n",
       "<details>\n",
       "\t<summary style=display:list-item;cursor:pointer>\n",
       "\t\t<strong>Levels</strong>:\n",
       "\t</summary>\n",
       "\t<style>\n",
       "\t.list-inline {list-style: none; margin:0; padding: 0}\n",
       "\t.list-inline>li {display: inline-block}\n",
       "\t.list-inline>li:not(:last-child)::after {content: \"\\00b7\"; padding: 0 .5ex}\n",
       "\t</style>\n",
       "\t<ol class=list-inline><li>'a'</li><li>'b'</li></ol>\n",
       "</details>"
      ],
      "text/latex": [
       "\\begin{enumerate*}\n",
       "\\item a\n",
       "\\item b\n",
       "\\item b\n",
       "\\end{enumerate*}\n",
       "\n",
       "\\emph{Levels}: \\begin{enumerate*}\n",
       "\\item 'a'\n",
       "\\item 'b'\n",
       "\\end{enumerate*}\n"
      ],
      "text/markdown": [
       "1. a\n",
       "2. b\n",
       "3. b\n",
       "\n",
       "\n",
       "\n",
       "**Levels**: 1. 'a'\n",
       "2. 'b'\n",
       "\n",
       "\n"
      ],
      "text/plain": [
       "[1] a b b\n",
       "Levels: a b"
      ]
     },
     "metadata": {},
     "output_type": "display_data"
    }
   ],
   "source": [
    "b_factor = factor(b)\n",
    "\n",
    "b_factor"
   ]
  },
  {
   "cell_type": "code",
   "execution_count": 13,
   "metadata": {},
   "outputs": [
    {
     "data": {
      "text/html": [
       "<style>\n",
       ".list-inline {list-style: none; margin:0; padding: 0}\n",
       ".list-inline>li {display: inline-block}\n",
       ".list-inline>li:not(:last-child)::after {content: \"\\00b7\"; padding: 0 .5ex}\n",
       "</style>\n",
       "<ol class=list-inline><li>a</li><li>b</li><li>b</li></ol>\n",
       "\n",
       "<details>\n",
       "\t<summary style=display:list-item;cursor:pointer>\n",
       "\t\t<strong>Levels</strong>:\n",
       "\t</summary>\n",
       "\t<style>\n",
       "\t.list-inline {list-style: none; margin:0; padding: 0}\n",
       "\t.list-inline>li {display: inline-block}\n",
       "\t.list-inline>li:not(:last-child)::after {content: \"\\00b7\"; padding: 0 .5ex}\n",
       "\t</style>\n",
       "\t<ol class=list-inline><li>'a'</li><li>'b'</li></ol>\n",
       "</details>"
      ],
      "text/latex": [
       "\\begin{enumerate*}\n",
       "\\item a\n",
       "\\item b\n",
       "\\item b\n",
       "\\end{enumerate*}\n",
       "\n",
       "\\emph{Levels}: \\begin{enumerate*}\n",
       "\\item 'a'\n",
       "\\item 'b'\n",
       "\\end{enumerate*}\n"
      ],
      "text/markdown": [
       "1. a\n",
       "2. b\n",
       "3. b\n",
       "\n",
       "\n",
       "\n",
       "**Levels**: 1. 'a'\n",
       "2. 'b'\n",
       "\n",
       "\n"
      ],
      "text/plain": [
       "[1] a b b\n",
       "Levels: a b"
      ]
     },
     "metadata": {},
     "output_type": "display_data"
    }
   ],
   "source": [
    "sort(b_factor)"
   ]
  },
  {
   "cell_type": "code",
   "execution_count": 14,
   "metadata": {},
   "outputs": [
    {
     "data": {
      "text/html": [
       "<style>\n",
       ".list-inline {list-style: none; margin:0; padding: 0}\n",
       ".list-inline>li {display: inline-block}\n",
       ".list-inline>li:not(:last-child)::after {content: \"\\00b7\"; padding: 0 .5ex}\n",
       "</style>\n",
       "<ol class=list-inline><li>a</li><li>b</li><li>b</li></ol>\n",
       "\n",
       "<details>\n",
       "\t<summary style=display:list-item;cursor:pointer>\n",
       "\t\t<strong>Levels</strong>:\n",
       "\t</summary>\n",
       "\t<style>\n",
       "\t.list-inline {list-style: none; margin:0; padding: 0}\n",
       "\t.list-inline>li {display: inline-block}\n",
       "\t.list-inline>li:not(:last-child)::after {content: \"\\00b7\"; padding: 0 .5ex}\n",
       "\t</style>\n",
       "\t<ol class=list-inline><li>'b'</li><li>'a'</li></ol>\n",
       "</details>"
      ],
      "text/latex": [
       "\\begin{enumerate*}\n",
       "\\item a\n",
       "\\item b\n",
       "\\item b\n",
       "\\end{enumerate*}\n",
       "\n",
       "\\emph{Levels}: \\begin{enumerate*}\n",
       "\\item 'b'\n",
       "\\item 'a'\n",
       "\\end{enumerate*}\n"
      ],
      "text/markdown": [
       "1. a\n",
       "2. b\n",
       "3. b\n",
       "\n",
       "\n",
       "\n",
       "**Levels**: 1. 'b'\n",
       "2. 'a'\n",
       "\n",
       "\n"
      ],
      "text/plain": [
       "[1] a b b\n",
       "Levels: b a"
      ]
     },
     "metadata": {},
     "output_type": "display_data"
    }
   ],
   "source": [
    "b_factor2 = factor(b, levels = c('b', 'a'))\n",
    "\n",
    "b_factor2"
   ]
  },
  {
   "cell_type": "markdown",
   "metadata": {},
   "source": [
    "What's going to happen here 👇?"
   ]
  },
  {
   "cell_type": "code",
   "execution_count": 46,
   "metadata": {},
   "outputs": [
    {
     "data": {
      "text/html": [
       "<style>\n",
       ".list-inline {list-style: none; margin:0; padding: 0}\n",
       ".list-inline>li {display: inline-block}\n",
       ".list-inline>li:not(:last-child)::after {content: \"\\00b7\"; padding: 0 .5ex}\n",
       "</style>\n",
       "<ol class=list-inline><li>b</li><li>b</li><li>a</li></ol>\n",
       "\n",
       "<details>\n",
       "\t<summary style=display:list-item;cursor:pointer>\n",
       "\t\t<strong>Levels</strong>:\n",
       "\t</summary>\n",
       "\t<style>\n",
       "\t.list-inline {list-style: none; margin:0; padding: 0}\n",
       "\t.list-inline>li {display: inline-block}\n",
       "\t.list-inline>li:not(:last-child)::after {content: \"\\00b7\"; padding: 0 .5ex}\n",
       "\t</style>\n",
       "\t<ol class=list-inline><li>'b'</li><li>'a'</li></ol>\n",
       "</details>"
      ],
      "text/latex": [
       "\\begin{enumerate*}\n",
       "\\item b\n",
       "\\item b\n",
       "\\item a\n",
       "\\end{enumerate*}\n",
       "\n",
       "\\emph{Levels}: \\begin{enumerate*}\n",
       "\\item 'b'\n",
       "\\item 'a'\n",
       "\\end{enumerate*}\n"
      ],
      "text/markdown": [
       "1. b\n",
       "2. b\n",
       "3. a\n",
       "\n",
       "\n",
       "\n",
       "**Levels**: 1. 'b'\n",
       "2. 'a'\n",
       "\n",
       "\n"
      ],
      "text/plain": [
       "[1] b b a\n",
       "Levels: b a"
      ]
     },
     "metadata": {},
     "output_type": "display_data"
    }
   ],
   "source": [
    "sort(b_factor2)"
   ]
  },
  {
   "cell_type": "markdown",
   "metadata": {},
   "source": [
    "How can we use this for visualization?"
   ]
  },
  {
   "cell_type": "code",
   "execution_count": 16,
   "metadata": {
    "slideshow": {
     "slide_type": "slide"
    }
   },
   "outputs": [
    {
     "data": {
      "text/html": [
       "<style>\n",
       ".list-inline {list-style: none; margin:0; padding: 0}\n",
       ".list-inline>li {display: inline-block}\n",
       ".list-inline>li:not(:last-child)::after {content: \"\\00b7\"; padding: 0 .5ex}\n",
       "</style>\n",
       "<ol class=list-inline><li>1</li><li>2</li><li>2</li></ol>\n"
      ],
      "text/latex": [
       "\\begin{enumerate*}\n",
       "\\item 1\n",
       "\\item 2\n",
       "\\item 2\n",
       "\\end{enumerate*}\n"
      ],
      "text/markdown": [
       "1. 1\n",
       "2. 2\n",
       "3. 2\n",
       "\n",
       "\n"
      ],
      "text/plain": [
       "[1] 1 2 2"
      ]
     },
     "metadata": {},
     "output_type": "display_data"
    }
   ],
   "source": [
    "as.numeric(b_factor)"
   ]
  },
  {
   "cell_type": "markdown",
   "metadata": {
    "slideshow": {
     "slide_type": "slide"
    }
   },
   "source": [
    "# `read.csv`"
   ]
  },
  {
   "cell_type": "code",
   "execution_count": 7,
   "metadata": {
    "slideshow": {
     "slide_type": "slide"
    }
   },
   "outputs": [],
   "source": [
    "df = read.csv(\n",
    "    'https://raw.githubusercontent.com/chuckpr/BIOS512/main/in-class-exercises/data/marathon.csv',\n",
    "    stringsAsFactors=FALSE\n",
    ")"
   ]
  },
  {
   "cell_type": "code",
   "execution_count": 8,
   "metadata": {
    "slideshow": {
     "slide_type": "slide"
    }
   },
   "outputs": [
    {
     "data": {
      "text/html": [
       "<table>\n",
       "<caption>A data.frame: 6 × 7</caption>\n",
       "<thead>\n",
       "\t<tr><th></th><th scope=col>year</th><th scope=col>name</th><th scope=col>country</th><th scope=col>time</th><th scope=col>race.time</th><th scope=col>MF</th><th scope=col>country.simple</th></tr>\n",
       "\t<tr><th></th><th scope=col>&lt;int&gt;</th><th scope=col>&lt;fct&gt;</th><th scope=col>&lt;fct&gt;</th><th scope=col>&lt;fct&gt;</th><th scope=col>&lt;dbl&gt;</th><th scope=col>&lt;fct&gt;</th><th scope=col>&lt;fct&gt;</th></tr>\n",
       "</thead>\n",
       "<tbody>\n",
       "\t<tr><th scope=row>1</th><td>2019</td><td>Lawrence Cherono          </td><td>Kenya        </td><td>2H 7M 57S </td><td>2.132500</td><td>Men's</td><td>Kenya        </td></tr>\n",
       "\t<tr><th scope=row>2</th><td>2018</td><td>Yuki Kawauchi             </td><td>Japan        </td><td>2H 15M 58S</td><td>2.266111</td><td>Men's</td><td>Japan        </td></tr>\n",
       "\t<tr><th scope=row>3</th><td>2017</td><td>Geoffrey Kirui            </td><td>Kenya        </td><td>2H 9M 37S </td><td>2.160278</td><td>Men's</td><td>Kenya        </td></tr>\n",
       "\t<tr><th scope=row>4</th><td>2016</td><td>Lemi Berhanu              </td><td>Ethiopia     </td><td>2H 12M 45S</td><td>2.212500</td><td>Men's</td><td>Ethiopia     </td></tr>\n",
       "\t<tr><th scope=row>5</th><td>2015</td><td>Lelisa Desisa             </td><td>Ethiopia     </td><td>2H 9M 17S </td><td>2.154722</td><td>Men's</td><td>Ethiopia     </td></tr>\n",
       "\t<tr><th scope=row>6</th><td>2014</td><td>Mebrahtom \"Meb\" Keflezighi</td><td>United States</td><td>2H 8M 37S </td><td>2.143611</td><td>Men's</td><td>United States</td></tr>\n",
       "</tbody>\n",
       "</table>\n"
      ],
      "text/latex": [
       "A data.frame: 6 × 7\n",
       "\\begin{tabular}{r|lllllll}\n",
       "  & year & name & country & time & race.time & MF & country.simple\\\\\n",
       "  & <int> & <fct> & <fct> & <fct> & <dbl> & <fct> & <fct>\\\\\n",
       "\\hline\n",
       "\t1 & 2019 & Lawrence Cherono           & Kenya         & 2H 7M 57S  & 2.132500 & Men's & Kenya        \\\\\n",
       "\t2 & 2018 & Yuki Kawauchi              & Japan         & 2H 15M 58S & 2.266111 & Men's & Japan        \\\\\n",
       "\t3 & 2017 & Geoffrey Kirui             & Kenya         & 2H 9M 37S  & 2.160278 & Men's & Kenya        \\\\\n",
       "\t4 & 2016 & Lemi Berhanu               & Ethiopia      & 2H 12M 45S & 2.212500 & Men's & Ethiopia     \\\\\n",
       "\t5 & 2015 & Lelisa Desisa              & Ethiopia      & 2H 9M 17S  & 2.154722 & Men's & Ethiopia     \\\\\n",
       "\t6 & 2014 & Mebrahtom \"Meb\" Keflezighi & United States & 2H 8M 37S  & 2.143611 & Men's & United States\\\\\n",
       "\\end{tabular}\n"
      ],
      "text/markdown": [
       "\n",
       "A data.frame: 6 × 7\n",
       "\n",
       "| <!--/--> | year &lt;int&gt; | name &lt;fct&gt; | country &lt;fct&gt; | time &lt;fct&gt; | race.time &lt;dbl&gt; | MF &lt;fct&gt; | country.simple &lt;fct&gt; |\n",
       "|---|---|---|---|---|---|---|---|\n",
       "| 1 | 2019 | Lawrence Cherono           | Kenya         | 2H 7M 57S  | 2.132500 | Men's | Kenya         |\n",
       "| 2 | 2018 | Yuki Kawauchi              | Japan         | 2H 15M 58S | 2.266111 | Men's | Japan         |\n",
       "| 3 | 2017 | Geoffrey Kirui             | Kenya         | 2H 9M 37S  | 2.160278 | Men's | Kenya         |\n",
       "| 4 | 2016 | Lemi Berhanu               | Ethiopia      | 2H 12M 45S | 2.212500 | Men's | Ethiopia      |\n",
       "| 5 | 2015 | Lelisa Desisa              | Ethiopia      | 2H 9M 17S  | 2.154722 | Men's | Ethiopia      |\n",
       "| 6 | 2014 | Mebrahtom \"Meb\" Keflezighi | United States | 2H 8M 37S  | 2.143611 | Men's | United States |\n",
       "\n"
      ],
      "text/plain": [
       "  year name                       country       time       race.time MF   \n",
       "1 2019 Lawrence Cherono           Kenya         2H 7M 57S  2.132500  Men's\n",
       "2 2018 Yuki Kawauchi              Japan         2H 15M 58S 2.266111  Men's\n",
       "3 2017 Geoffrey Kirui             Kenya         2H 9M 37S  2.160278  Men's\n",
       "4 2016 Lemi Berhanu               Ethiopia      2H 12M 45S 2.212500  Men's\n",
       "5 2015 Lelisa Desisa              Ethiopia      2H 9M 17S  2.154722  Men's\n",
       "6 2014 Mebrahtom \"Meb\" Keflezighi United States 2H 8M 37S  2.143611  Men's\n",
       "  country.simple\n",
       "1 Kenya         \n",
       "2 Japan         \n",
       "3 Kenya         \n",
       "4 Ethiopia      \n",
       "5 Ethiopia      \n",
       "6 United States "
      ]
     },
     "metadata": {},
     "output_type": "display_data"
    }
   ],
   "source": [
    "df %>% head"
   ]
  },
  {
   "cell_type": "code",
   "execution_count": 19,
   "metadata": {
    "slideshow": {
     "slide_type": "slide"
    }
   },
   "outputs": [],
   "source": [
    "# levels(df$name)"
   ]
  },
  {
   "cell_type": "markdown",
   "metadata": {
    "slideshow": {
     "slide_type": "slide"
    }
   },
   "source": [
    "`stringsAsFactors = FALSE`"
   ]
  },
  {
   "cell_type": "code",
   "execution_count": 20,
   "metadata": {
    "slideshow": {
     "slide_type": "slide"
    }
   },
   "outputs": [],
   "source": [
    "df = read.csv(\n",
    "    'https://raw.githubusercontent.com/chuckpr/BIOS512/main/in-class-exercises/data/marathon.csv',\n",
    "    stringsAsFactors = FALSE\n",
    ")"
   ]
  },
  {
   "cell_type": "code",
   "execution_count": 21,
   "metadata": {
    "slideshow": {
     "slide_type": "slide"
    }
   },
   "outputs": [
    {
     "data": {
      "text/html": [
       "<table>\n",
       "<caption>A data.frame: 6 × 7</caption>\n",
       "<thead>\n",
       "\t<tr><th></th><th scope=col>year</th><th scope=col>name</th><th scope=col>country</th><th scope=col>time</th><th scope=col>race.time</th><th scope=col>MF</th><th scope=col>country.simple</th></tr>\n",
       "\t<tr><th></th><th scope=col>&lt;int&gt;</th><th scope=col>&lt;chr&gt;</th><th scope=col>&lt;chr&gt;</th><th scope=col>&lt;chr&gt;</th><th scope=col>&lt;dbl&gt;</th><th scope=col>&lt;chr&gt;</th><th scope=col>&lt;chr&gt;</th></tr>\n",
       "</thead>\n",
       "<tbody>\n",
       "\t<tr><th scope=row>1</th><td>2019</td><td>Lawrence Cherono          </td><td>Kenya        </td><td>2H 7M 57S </td><td>2.132500</td><td>Men's</td><td>Kenya        </td></tr>\n",
       "\t<tr><th scope=row>2</th><td>2018</td><td>Yuki Kawauchi             </td><td>Japan        </td><td>2H 15M 58S</td><td>2.266111</td><td>Men's</td><td>Japan        </td></tr>\n",
       "\t<tr><th scope=row>3</th><td>2017</td><td>Geoffrey Kirui            </td><td>Kenya        </td><td>2H 9M 37S </td><td>2.160278</td><td>Men's</td><td>Kenya        </td></tr>\n",
       "\t<tr><th scope=row>4</th><td>2016</td><td>Lemi Berhanu              </td><td>Ethiopia     </td><td>2H 12M 45S</td><td>2.212500</td><td>Men's</td><td>Ethiopia     </td></tr>\n",
       "\t<tr><th scope=row>5</th><td>2015</td><td>Lelisa Desisa             </td><td>Ethiopia     </td><td>2H 9M 17S </td><td>2.154722</td><td>Men's</td><td>Ethiopia     </td></tr>\n",
       "\t<tr><th scope=row>6</th><td>2014</td><td>Mebrahtom \"Meb\" Keflezighi</td><td>United States</td><td>2H 8M 37S </td><td>2.143611</td><td>Men's</td><td>United States</td></tr>\n",
       "</tbody>\n",
       "</table>\n"
      ],
      "text/latex": [
       "A data.frame: 6 × 7\n",
       "\\begin{tabular}{r|lllllll}\n",
       "  & year & name & country & time & race.time & MF & country.simple\\\\\n",
       "  & <int> & <chr> & <chr> & <chr> & <dbl> & <chr> & <chr>\\\\\n",
       "\\hline\n",
       "\t1 & 2019 & Lawrence Cherono           & Kenya         & 2H 7M 57S  & 2.132500 & Men's & Kenya        \\\\\n",
       "\t2 & 2018 & Yuki Kawauchi              & Japan         & 2H 15M 58S & 2.266111 & Men's & Japan        \\\\\n",
       "\t3 & 2017 & Geoffrey Kirui             & Kenya         & 2H 9M 37S  & 2.160278 & Men's & Kenya        \\\\\n",
       "\t4 & 2016 & Lemi Berhanu               & Ethiopia      & 2H 12M 45S & 2.212500 & Men's & Ethiopia     \\\\\n",
       "\t5 & 2015 & Lelisa Desisa              & Ethiopia      & 2H 9M 17S  & 2.154722 & Men's & Ethiopia     \\\\\n",
       "\t6 & 2014 & Mebrahtom \"Meb\" Keflezighi & United States & 2H 8M 37S  & 2.143611 & Men's & United States\\\\\n",
       "\\end{tabular}\n"
      ],
      "text/markdown": [
       "\n",
       "A data.frame: 6 × 7\n",
       "\n",
       "| <!--/--> | year &lt;int&gt; | name &lt;chr&gt; | country &lt;chr&gt; | time &lt;chr&gt; | race.time &lt;dbl&gt; | MF &lt;chr&gt; | country.simple &lt;chr&gt; |\n",
       "|---|---|---|---|---|---|---|---|\n",
       "| 1 | 2019 | Lawrence Cherono           | Kenya         | 2H 7M 57S  | 2.132500 | Men's | Kenya         |\n",
       "| 2 | 2018 | Yuki Kawauchi              | Japan         | 2H 15M 58S | 2.266111 | Men's | Japan         |\n",
       "| 3 | 2017 | Geoffrey Kirui             | Kenya         | 2H 9M 37S  | 2.160278 | Men's | Kenya         |\n",
       "| 4 | 2016 | Lemi Berhanu               | Ethiopia      | 2H 12M 45S | 2.212500 | Men's | Ethiopia      |\n",
       "| 5 | 2015 | Lelisa Desisa              | Ethiopia      | 2H 9M 17S  | 2.154722 | Men's | Ethiopia      |\n",
       "| 6 | 2014 | Mebrahtom \"Meb\" Keflezighi | United States | 2H 8M 37S  | 2.143611 | Men's | United States |\n",
       "\n"
      ],
      "text/plain": [
       "  year name                       country       time       race.time MF   \n",
       "1 2019 Lawrence Cherono           Kenya         2H 7M 57S  2.132500  Men's\n",
       "2 2018 Yuki Kawauchi              Japan         2H 15M 58S 2.266111  Men's\n",
       "3 2017 Geoffrey Kirui             Kenya         2H 9M 37S  2.160278  Men's\n",
       "4 2016 Lemi Berhanu               Ethiopia      2H 12M 45S 2.212500  Men's\n",
       "5 2015 Lelisa Desisa              Ethiopia      2H 9M 17S  2.154722  Men's\n",
       "6 2014 Mebrahtom \"Meb\" Keflezighi United States 2H 8M 37S  2.143611  Men's\n",
       "  country.simple\n",
       "1 Kenya         \n",
       "2 Japan         \n",
       "3 Kenya         \n",
       "4 Ethiopia      \n",
       "5 Ethiopia      \n",
       "6 United States "
      ]
     },
     "metadata": {},
     "output_type": "display_data"
    }
   ],
   "source": [
    "df %>% head"
   ]
  },
  {
   "cell_type": "markdown",
   "metadata": {
    "slideshow": {
     "slide_type": "slide"
    }
   },
   "source": [
    "# `read_csv`"
   ]
  },
  {
   "cell_type": "code",
   "execution_count": 22,
   "metadata": {
    "slideshow": {
     "slide_type": "slide"
    }
   },
   "outputs": [
    {
     "name": "stderr",
     "output_type": "stream",
     "text": [
      "Parsed with column specification:\n",
      "cols(\n",
      "  year = \u001b[32mcol_double()\u001b[39m,\n",
      "  name = \u001b[31mcol_character()\u001b[39m,\n",
      "  country = \u001b[31mcol_character()\u001b[39m,\n",
      "  time = \u001b[31mcol_character()\u001b[39m,\n",
      "  race.time = \u001b[32mcol_double()\u001b[39m,\n",
      "  MF = \u001b[31mcol_character()\u001b[39m,\n",
      "  country.simple = \u001b[31mcol_character()\u001b[39m\n",
      ")\n",
      "\n"
     ]
    }
   ],
   "source": [
    "df = read_csv(\n",
    "    'https://raw.githubusercontent.com/chuckpr/BIOS512/main/in-class-exercises/data/marathon.csv'\n",
    ")"
   ]
  },
  {
   "cell_type": "code",
   "execution_count": 9,
   "metadata": {
    "slideshow": {
     "slide_type": "slide"
    }
   },
   "outputs": [],
   "source": [
    "col_types = cols(\n",
    "  year = col_double(),\n",
    "  name = col_character(),\n",
    "  country = col_character(),\n",
    "  time = col_character(),\n",
    "  race.time = col_double(),\n",
    "  MF = col_character(),\n",
    "  country.simple = col_character()\n",
    ")\n",
    "\n",
    "df = read_csv(\n",
    "    'https://raw.githubusercontent.com/chuckpr/BIOS512/main/in-class-exercises/data/marathon.csv',\n",
    "    col_types = col_types\n",
    ")"
   ]
  },
  {
   "cell_type": "code",
   "execution_count": 10,
   "metadata": {
    "slideshow": {
     "slide_type": "slide"
    }
   },
   "outputs": [
    {
     "name": "stdout",
     "output_type": "stream",
     "text": [
      "\u001b[38;5;246m# A tibble: 171 x 7\u001b[39m\n",
      "    year name                 country     time    race.time MF    country.simple\n",
      "   \u001b[3m\u001b[38;5;246m<dbl>\u001b[39m\u001b[23m \u001b[3m\u001b[38;5;246m<chr>\u001b[39m\u001b[23m                \u001b[3m\u001b[38;5;246m<chr>\u001b[39m\u001b[23m       \u001b[3m\u001b[38;5;246m<chr>\u001b[39m\u001b[23m       \u001b[3m\u001b[38;5;246m<dbl>\u001b[39m\u001b[23m \u001b[3m\u001b[38;5;246m<chr>\u001b[39m\u001b[23m \u001b[3m\u001b[38;5;246m<chr>\u001b[39m\u001b[23m         \n",
      "\u001b[38;5;250m 1\u001b[39m  \u001b[4m2\u001b[24m019 \u001b[38;5;246m\"\u001b[39mLawrence Cherono\u001b[38;5;246m\"\u001b[39m   Kenya       2H 7M …      2.13 Men's Kenya         \n",
      "\u001b[38;5;250m 2\u001b[39m  \u001b[4m2\u001b[24m018 \u001b[38;5;246m\"\u001b[39mYuki Kawauchi\u001b[38;5;246m\"\u001b[39m      Japan       2H 15M…      2.27 Men's Japan         \n",
      "\u001b[38;5;250m 3\u001b[39m  \u001b[4m2\u001b[24m017 \u001b[38;5;246m\"\u001b[39mGeoffrey Kirui\u001b[38;5;246m\"\u001b[39m     Kenya       2H 9M …      2.16 Men's Kenya         \n",
      "\u001b[38;5;250m 4\u001b[39m  \u001b[4m2\u001b[24m016 \u001b[38;5;246m\"\u001b[39mLemi Berhanu\u001b[38;5;246m\"\u001b[39m       Ethiopia    2H 12M…      2.21 Men's Ethiopia      \n",
      "\u001b[38;5;250m 5\u001b[39m  \u001b[4m2\u001b[24m015 \u001b[38;5;246m\"\u001b[39mLelisa Desisa\u001b[38;5;246m\"\u001b[39m      Ethiopia    2H 9M …      2.15 Men's Ethiopia      \n",
      "\u001b[38;5;250m 6\u001b[39m  \u001b[4m2\u001b[24m014 \u001b[38;5;246m\"\u001b[39mMebrahtom \\\"Meb\\\" … United Sta… 2H 8M …      2.14 Men's United States \n",
      "\u001b[38;5;250m 7\u001b[39m  \u001b[4m2\u001b[24m013 \u001b[38;5;246m\"\u001b[39mLelisa Desisa\u001b[38;5;246m\"\u001b[39m      Ethiopia    2H 10M…      2.17 Men's Ethiopia      \n",
      "\u001b[38;5;250m 8\u001b[39m  \u001b[4m2\u001b[24m012 \u001b[38;5;246m\"\u001b[39mWesley Korir\u001b[38;5;246m\"\u001b[39m       Kenya       2H 12M…      2.21 Men's Kenya         \n",
      "\u001b[38;5;250m 9\u001b[39m  \u001b[4m2\u001b[24m011 \u001b[38;5;246m\"\u001b[39mGeoffrey Mutai\u001b[38;5;246m\"\u001b[39m     Kenya       2H 3M …      2.05 Men's Kenya         \n",
      "\u001b[38;5;250m10\u001b[39m  \u001b[4m2\u001b[24m010 \u001b[38;5;246m\"\u001b[39mRobert Kiprono Che… Kenya       2H 5M …      2.10 Men's Kenya         \n",
      "\u001b[38;5;246m# … with 161 more rows\u001b[39m\n"
     ]
    }
   ],
   "source": [
    "df %>% print"
   ]
  },
  {
   "cell_type": "markdown",
   "metadata": {
    "slideshow": {
     "slide_type": "slide"
    }
   },
   "source": [
    "# forcats"
   ]
  },
  {
   "cell_type": "code",
   "execution_count": 49,
   "metadata": {
    "slideshow": {
     "slide_type": "slide"
    }
   },
   "outputs": [],
   "source": [
    "?forcats"
   ]
  },
  {
   "cell_type": "code",
   "execution_count": 26,
   "metadata": {
    "slideshow": {
     "slide_type": "slide"
    }
   },
   "outputs": [
    {
     "data": {
      "image/png": "[encoded data removed]",
      "text/plain": [
       "plot without title"
      ]
     },
     "metadata": {
      "image/png": {
       "height": 450,
       "width": 600
      }
     },
     "output_type": "display_data"
    }
   ],
   "source": [
    "p = ggplot(df, aes(y = country))\n",
    "\n",
    "p = p + geom_bar()\n",
    "\n",
    "p"
   ]
  },
  {
   "cell_type": "markdown",
   "metadata": {
    "slideshow": {
     "slide_type": "slide"
    }
   },
   "source": [
    "## Order by frequency"
   ]
  },
  {
   "cell_type": "markdown",
   "metadata": {
    "slideshow": {
     "slide_type": "slide"
    }
   },
   "source": [
    "## fct_infreq"
   ]
  },
  {
   "cell_type": "code",
   "execution_count": 20,
   "metadata": {
    "slideshow": {
     "slide_type": "slide"
    }
   },
   "outputs": [
    {
     "data": {
      "image/png": "[encoded data removed]",
      "text/plain": [
       "plot without title"
      ]
     },
     "metadata": {
      "image/png": {
       "height": 450,
       "width": 600
      }
     },
     "output_type": "display_data"
    }
   ],
   "source": [
    "# df_sorted = df %>%\n",
    "#     mutate(country_sorted = country %>% fct_infreq() %>% fct_rev())  # try with fct_rev\n",
    "\n",
    "p = ggplot(df, aes(x = country %>% fct_infreq() %>% fct_rev()))\n",
    "\n",
    "p = p + geom_bar() + coord_flip()\n",
    "\n",
    "p"
   ]
  },
  {
   "cell_type": "code",
   "execution_count": 55,
   "metadata": {},
   "outputs": [
    {
     "data": {
      "text/html": [
       "<style>\n",
       ".list-inline {list-style: none; margin:0; padding: 0}\n",
       ".list-inline>li {display: inline-block}\n",
       ".list-inline>li:not(:last-child)::after {content: \"\\00b7\"; padding: 0 .5ex}\n",
       "</style>\n",
       "<ol class=list-inline><li>Kenya</li><li>Japan</li><li>Kenya</li><li>Ethiopia</li><li>Ethiopia</li><li>United States</li><li>Ethiopia</li><li>Kenya</li><li>Kenya</li><li>Kenya</li><li>Ethiopia</li><li>Kenya</li><li>Kenya</li><li>Kenya</li><li>Ethiopia</li><li>Kenya</li><li>Kenya</li><li>Kenya</li><li>South Korea</li><li>Kenya</li><li>Kenya</li><li>Kenya</li><li>Kenya</li><li>Kenya</li><li>Kenya</li><li>Kenya</li><li>Kenya</li><li>Kenya</li><li>Kenya</li><li>Italy</li><li>Ethiopia</li><li>Kenya</li><li>Japan</li><li>Australia</li><li>England</li><li>England</li><li>United States</li><li>United States</li><li>Japan</li><li>United States</li><li>United States</li><li>United States</li><li>Canada</li><li>United States</li><li>United States</li><li>Ireland</li><li>United States</li><li>Finland</li><li>Colombia</li><li>England</li><li>Japan</li><li>United States</li><li>New Zealand</li><li>Japan</li><li>Japan</li><li>Belgium</li><li>Belgium</li><li>Finland</li><li>Finland</li><li>Finland</li><li>Finland</li><li>Yugoslavia</li><li>United States</li><li>Finland</li><li>Japan</li><li>Finland</li><li>Japan</li><li>Guatemala</li><li>Japan</li><li>Korea</li><li>Sweden</li><li>Canada</li><li>Korea</li><li>Greece</li><li>United States</li><li>Canada</li><li>Canada</li><li>United States</li><li>United States</li><li>Canada</li><li>United States</li><li>United States</li><li>Canada</li><li>United States</li><li>United States</li><li>Canada</li><li>United States</li><li>Germany</li><li>United States</li><li>United States</li><li>Canada</li><li>United States</li><li>United States</li><li>Canada</li><li>United States</li><li>United States</li><li>United States</li><li>United States</li><li>United States</li><li>Greece</li><li>United States</li><li>United States</li><li>United States</li><li>United States</li><li>Canada</li><li>Canada</li><li>United States</li><li>United States</li><li>United States</li><li>Canada</li><li>United States</li><li>United States</li><li>Canada</li><li>United States</li><li>United States</li><li>United States</li><li>United States</li><li>United States</li><li>Canada</li><li>Canada</li><li>United States</li><li>Canada</li><li>United States</li><li>Ethiopia</li><li>United States</li><li>Kenya</li><li>Ethiopia</li><li>Kenya</li><li>Ethiopia</li><li>Kenya</li><li>Kenya</li><li>Kenya</li><li>Ethiopia</li><li>Kenya</li><li>Ethiopia</li><li>Russia</li><li>Kenya</li><li>Kenya</li><li>Kenya</li><li>Russia</li><li>Kenya</li><li>Kenya</li><li>Kenya</li><li>Ethiopia</li><li>Ethiopia</li><li>Ethiopia</li><li>Germany</li><li>Germany</li><li>Germany</li><li>Russia</li><li>Comm. Ind. States</li><li>Poland</li><li>Portugal</li><li>Norway</li><li>Portugal</li><li>Portugal</li><li>Norway</li><li>United States</li><li>New Zealand</li><li>United States</li><li>Germany</li><li>New Zealand</li><li>Canada</li><li>United States</li><li>United States</li><li>United States</li><li>United States</li><li>Germany</li><li>United States</li><li>United States</li><li>United States</li></ol>\n",
       "\n",
       "<details>\n",
       "\t<summary style=display:list-item;cursor:pointer>\n",
       "\t\t<strong>Levels</strong>:\n",
       "\t</summary>\n",
       "\t<style>\n",
       "\t.list-inline {list-style: none; margin:0; padding: 0}\n",
       "\t.list-inline>li {display: inline-block}\n",
       "\t.list-inline>li:not(:last-child)::after {content: \"\\00b7\"; padding: 0 .5ex}\n",
       "\t</style>\n",
       "\t<ol class=list-inline><li>'Yugoslavia'</li><li>'Sweden'</li><li>'South Korea'</li><li>'Poland'</li><li>'Italy'</li><li>'Ireland'</li><li>'Guatemala'</li><li>'Comm. Ind. States'</li><li>'Colombia'</li><li>'Australia'</li><li>'Norway'</li><li>'Korea'</li><li>'Greece'</li><li>'Belgium'</li><li>'Russia'</li><li>'Portugal'</li><li>'New Zealand'</li><li>'England'</li><li>'Germany'</li><li>'Finland'</li><li>'Japan'</li><li>'Ethiopia'</li><li>'Canada'</li><li>'Kenya'</li><li>'United States'</li></ol>\n",
       "</details>"
      ],
      "text/latex": [
       "\\begin{enumerate*}\n",
       "\\item Kenya\n",
       "\\item Japan\n",
       "\\item Kenya\n",
       "\\item Ethiopia\n",
       "\\item Ethiopia\n",
       "\\item United States\n",
       "\\item Ethiopia\n",
       "\\item Kenya\n",
       "\\item Kenya\n",
       "\\item Kenya\n",
       "\\item Ethiopia\n",
       "\\item Kenya\n",
       "\\item Kenya\n",
       "\\item Kenya\n",
       "\\item Ethiopia\n",
       "\\item Kenya\n",
       "\\item Kenya\n",
       "\\item Kenya\n",
       "\\item South Korea\n",
       "\\item Kenya\n",
       "\\item Kenya\n",
       "\\item Kenya\n",
       "\\item Kenya\n",
       "\\item Kenya\n",
       "\\item Kenya\n",
       "\\item Kenya\n",
       "\\item Kenya\n",
       "\\item Kenya\n",
       "\\item Kenya\n",
       "\\item Italy\n",
       "\\item Ethiopia\n",
       "\\item Kenya\n",
       "\\item Japan\n",
       "\\item Australia\n",
       "\\item England\n",
       "\\item England\n",
       "\\item United States\n",
       "\\item United States\n",
       "\\item Japan\n",
       "\\item United States\n",
       "\\item United States\n",
       "\\item United States\n",
       "\\item Canada\n",
       "\\item United States\n",
       "\\item United States\n",
       "\\item Ireland\n",
       "\\item United States\n",
       "\\item Finland\n",
       "\\item Colombia\n",
       "\\item England\n",
       "\\item Japan\n",
       "\\item United States\n",
       "\\item New Zealand\n",
       "\\item Japan\n",
       "\\item Japan\n",
       "\\item Belgium\n",
       "\\item Belgium\n",
       "\\item Finland\n",
       "\\item Finland\n",
       "\\item Finland\n",
       "\\item Finland\n",
       "\\item Yugoslavia\n",
       "\\item United States\n",
       "\\item Finland\n",
       "\\item Japan\n",
       "\\item Finland\n",
       "\\item Japan\n",
       "\\item Guatemala\n",
       "\\item Japan\n",
       "\\item Korea\n",
       "\\item Sweden\n",
       "\\item Canada\n",
       "\\item Korea\n",
       "\\item Greece\n",
       "\\item United States\n",
       "\\item Canada\n",
       "\\item Canada\n",
       "\\item United States\n",
       "\\item United States\n",
       "\\item Canada\n",
       "\\item United States\n",
       "\\item United States\n",
       "\\item Canada\n",
       "\\item United States\n",
       "\\item United States\n",
       "\\item Canada\n",
       "\\item United States\n",
       "\\item Germany\n",
       "\\item United States\n",
       "\\item United States\n",
       "\\item Canada\n",
       "\\item United States\n",
       "\\item United States\n",
       "\\item Canada\n",
       "\\item United States\n",
       "\\item United States\n",
       "\\item United States\n",
       "\\item United States\n",
       "\\item United States\n",
       "\\item Greece\n",
       "\\item United States\n",
       "\\item United States\n",
       "\\item United States\n",
       "\\item United States\n",
       "\\item Canada\n",
       "\\item Canada\n",
       "\\item United States\n",
       "\\item United States\n",
       "\\item United States\n",
       "\\item Canada\n",
       "\\item United States\n",
       "\\item United States\n",
       "\\item Canada\n",
       "\\item United States\n",
       "\\item United States\n",
       "\\item United States\n",
       "\\item United States\n",
       "\\item United States\n",
       "\\item Canada\n",
       "\\item Canada\n",
       "\\item United States\n",
       "\\item Canada\n",
       "\\item United States\n",
       "\\item Ethiopia\n",
       "\\item United States\n",
       "\\item Kenya\n",
       "\\item Ethiopia\n",
       "\\item Kenya\n",
       "\\item Ethiopia\n",
       "\\item Kenya\n",
       "\\item Kenya\n",
       "\\item Kenya\n",
       "\\item Ethiopia\n",
       "\\item Kenya\n",
       "\\item Ethiopia\n",
       "\\item Russia\n",
       "\\item Kenya\n",
       "\\item Kenya\n",
       "\\item Kenya\n",
       "\\item Russia\n",
       "\\item Kenya\n",
       "\\item Kenya\n",
       "\\item Kenya\n",
       "\\item Ethiopia\n",
       "\\item Ethiopia\n",
       "\\item Ethiopia\n",
       "\\item Germany\n",
       "\\item Germany\n",
       "\\item Germany\n",
       "\\item Russia\n",
       "\\item Comm. Ind. States\n",
       "\\item Poland\n",
       "\\item Portugal\n",
       "\\item Norway\n",
       "\\item Portugal\n",
       "\\item Portugal\n",
       "\\item Norway\n",
       "\\item United States\n",
       "\\item New Zealand\n",
       "\\item United States\n",
       "\\item Germany\n",
       "\\item New Zealand\n",
       "\\item Canada\n",
       "\\item United States\n",
       "\\item United States\n",
       "\\item United States\n",
       "\\item United States\n",
       "\\item Germany\n",
       "\\item United States\n",
       "\\item United States\n",
       "\\item United States\n",
       "\\end{enumerate*}\n",
       "\n",
       "\\emph{Levels}: \\begin{enumerate*}\n",
       "\\item 'Yugoslavia'\n",
       "\\item 'Sweden'\n",
       "\\item 'South Korea'\n",
       "\\item 'Poland'\n",
       "\\item 'Italy'\n",
       "\\item 'Ireland'\n",
       "\\item 'Guatemala'\n",
       "\\item 'Comm. Ind. States'\n",
       "\\item 'Colombia'\n",
       "\\item 'Australia'\n",
       "\\item 'Norway'\n",
       "\\item 'Korea'\n",
       "\\item 'Greece'\n",
       "\\item 'Belgium'\n",
       "\\item 'Russia'\n",
       "\\item 'Portugal'\n",
       "\\item 'New Zealand'\n",
       "\\item 'England'\n",
       "\\item 'Germany'\n",
       "\\item 'Finland'\n",
       "\\item 'Japan'\n",
       "\\item 'Ethiopia'\n",
       "\\item 'Canada'\n",
       "\\item 'Kenya'\n",
       "\\item 'United States'\n",
       "\\end{enumerate*}\n"
      ],
      "text/markdown": [
       "1. Kenya\n",
       "2. Japan\n",
       "3. Kenya\n",
       "4. Ethiopia\n",
       "5. Ethiopia\n",
       "6. United States\n",
       "7. Ethiopia\n",
       "8. Kenya\n",
       "9. Kenya\n",
       "10. Kenya\n",
       "11. Ethiopia\n",
       "12. Kenya\n",
       "13. Kenya\n",
       "14. Kenya\n",
       "15. Ethiopia\n",
       "16. Kenya\n",
       "17. Kenya\n",
       "18. Kenya\n",
       "19. South Korea\n",
       "20. Kenya\n",
       "21. Kenya\n",
       "22. Kenya\n",
       "23. Kenya\n",
       "24. Kenya\n",
       "25. Kenya\n",
       "26. Kenya\n",
       "27. Kenya\n",
       "28. Kenya\n",
       "29. Kenya\n",
       "30. Italy\n",
       "31. Ethiopia\n",
       "32. Kenya\n",
       "33. Japan\n",
       "34. Australia\n",
       "35. England\n",
       "36. England\n",
       "37. United States\n",
       "38. United States\n",
       "39. Japan\n",
       "40. United States\n",
       "41. United States\n",
       "42. United States\n",
       "43. Canada\n",
       "44. United States\n",
       "45. United States\n",
       "46. Ireland\n",
       "47. United States\n",
       "48. Finland\n",
       "49. Colombia\n",
       "50. England\n",
       "51. Japan\n",
       "52. United States\n",
       "53. New Zealand\n",
       "54. Japan\n",
       "55. Japan\n",
       "56. Belgium\n",
       "57. Belgium\n",
       "58. Finland\n",
       "59. Finland\n",
       "60. Finland\n",
       "61. Finland\n",
       "62. Yugoslavia\n",
       "63. United States\n",
       "64. Finland\n",
       "65. Japan\n",
       "66. Finland\n",
       "67. Japan\n",
       "68. Guatemala\n",
       "69. Japan\n",
       "70. Korea\n",
       "71. Sweden\n",
       "72. Canada\n",
       "73. Korea\n",
       "74. Greece\n",
       "75. United States\n",
       "76. Canada\n",
       "77. Canada\n",
       "78. United States\n",
       "79. United States\n",
       "80. Canada\n",
       "81. United States\n",
       "82. United States\n",
       "83. Canada\n",
       "84. United States\n",
       "85. United States\n",
       "86. Canada\n",
       "87. United States\n",
       "88. Germany\n",
       "89. United States\n",
       "90. United States\n",
       "91. Canada\n",
       "92. United States\n",
       "93. United States\n",
       "94. Canada\n",
       "95. United States\n",
       "96. United States\n",
       "97. United States\n",
       "98. United States\n",
       "99. United States\n",
       "100. Greece\n",
       "101. United States\n",
       "102. United States\n",
       "103. United States\n",
       "104. United States\n",
       "105. Canada\n",
       "106. Canada\n",
       "107. United States\n",
       "108. United States\n",
       "109. United States\n",
       "110. Canada\n",
       "111. United States\n",
       "112. United States\n",
       "113. Canada\n",
       "114. United States\n",
       "115. United States\n",
       "116. United States\n",
       "117. United States\n",
       "118. United States\n",
       "119. Canada\n",
       "120. Canada\n",
       "121. United States\n",
       "122. Canada\n",
       "123. United States\n",
       "124. Ethiopia\n",
       "125. United States\n",
       "126. Kenya\n",
       "127. Ethiopia\n",
       "128. Kenya\n",
       "129. Ethiopia\n",
       "130. Kenya\n",
       "131. Kenya\n",
       "132. Kenya\n",
       "133. Ethiopia\n",
       "134. Kenya\n",
       "135. Ethiopia\n",
       "136. Russia\n",
       "137. Kenya\n",
       "138. Kenya\n",
       "139. Kenya\n",
       "140. Russia\n",
       "141. Kenya\n",
       "142. Kenya\n",
       "143. Kenya\n",
       "144. Ethiopia\n",
       "145. Ethiopia\n",
       "146. Ethiopia\n",
       "147. Germany\n",
       "148. Germany\n",
       "149. Germany\n",
       "150. Russia\n",
       "151. Comm. Ind. States\n",
       "152. Poland\n",
       "153. Portugal\n",
       "154. Norway\n",
       "155. Portugal\n",
       "156. Portugal\n",
       "157. Norway\n",
       "158. United States\n",
       "159. New Zealand\n",
       "160. United States\n",
       "161. Germany\n",
       "162. New Zealand\n",
       "163. Canada\n",
       "164. United States\n",
       "165. United States\n",
       "166. United States\n",
       "167. United States\n",
       "168. Germany\n",
       "169. United States\n",
       "170. United States\n",
       "171. United States\n",
       "\n",
       "\n",
       "\n",
       "**Levels**: 1. 'Yugoslavia'\n",
       "2. 'Sweden'\n",
       "3. 'South Korea'\n",
       "4. 'Poland'\n",
       "5. 'Italy'\n",
       "6. 'Ireland'\n",
       "7. 'Guatemala'\n",
       "8. 'Comm. Ind. States'\n",
       "9. 'Colombia'\n",
       "10. 'Australia'\n",
       "11. 'Norway'\n",
       "12. 'Korea'\n",
       "13. 'Greece'\n",
       "14. 'Belgium'\n",
       "15. 'Russia'\n",
       "16. 'Portugal'\n",
       "17. 'New Zealand'\n",
       "18. 'England'\n",
       "19. 'Germany'\n",
       "20. 'Finland'\n",
       "21. 'Japan'\n",
       "22. 'Ethiopia'\n",
       "23. 'Canada'\n",
       "24. 'Kenya'\n",
       "25. 'United States'\n",
       "\n",
       "\n"
      ],
      "text/plain": [
       "  [1] Kenya             Japan             Kenya             Ethiopia         \n",
       "  [5] Ethiopia          United States     Ethiopia          Kenya            \n",
       "  [9] Kenya             Kenya             Ethiopia          Kenya            \n",
       " [13] Kenya             Kenya             Ethiopia          Kenya            \n",
       " [17] Kenya             Kenya             South Korea       Kenya            \n",
       " [21] Kenya             Kenya             Kenya             Kenya            \n",
       " [25] Kenya             Kenya             Kenya             Kenya            \n",
       " [29] Kenya             Italy             Ethiopia          Kenya            \n",
       " [33] Japan             Australia         England           England          \n",
       " [37] United States     United States     Japan             United States    \n",
       " [41] United States     United States     Canada            United States    \n",
       " [45] United States     Ireland           United States     Finland          \n",
       " [49] Colombia          England           Japan             United States    \n",
       " [53] New Zealand       Japan             Japan             Belgium          \n",
       " [57] Belgium           Finland           Finland           Finland          \n",
       " [61] Finland           Yugoslavia        United States     Finland          \n",
       " [65] Japan             Finland           Japan             Guatemala        \n",
       " [69] Japan             Korea             Sweden            Canada           \n",
       " [73] Korea             Greece            United States     Canada           \n",
       " [77] Canada            United States     United States     Canada           \n",
       " [81] United States     United States     Canada            United States    \n",
       " [85] United States     Canada            United States     Germany          \n",
       " [89] United States     United States     Canada            United States    \n",
       " [93] United States     Canada            United States     United States    \n",
       " [97] United States     United States     United States     Greece           \n",
       "[101] United States     United States     United States     United States    \n",
       "[105] Canada            Canada            United States     United States    \n",
       "[109] United States     Canada            United States     United States    \n",
       "[113] Canada            United States     United States     United States    \n",
       "[117] United States     United States     Canada            Canada           \n",
       "[121] United States     Canada            United States     Ethiopia         \n",
       "[125] United States     Kenya             Ethiopia          Kenya            \n",
       "[129] Ethiopia          Kenya             Kenya             Kenya            \n",
       "[133] Ethiopia          Kenya             Ethiopia          Russia           \n",
       "[137] Kenya             Kenya             Kenya             Russia           \n",
       "[141] Kenya             Kenya             Kenya             Ethiopia         \n",
       "[145] Ethiopia          Ethiopia          Germany           Germany          \n",
       "[149] Germany           Russia            Comm. Ind. States Poland           \n",
       "[153] Portugal          Norway            Portugal          Portugal         \n",
       "[157] Norway            United States     New Zealand       United States    \n",
       "[161] Germany           New Zealand       Canada            United States    \n",
       "[165] United States     United States     United States     Germany          \n",
       "[169] United States     United States     United States    \n",
       "25 Levels: Yugoslavia Sweden South Korea Poland Italy Ireland ... United States"
      ]
     },
     "metadata": {},
     "output_type": "display_data"
    }
   ],
   "source": [
    "df %>% \n",
    "    pull(country) %>%\n",
    "    fct_infreq %>%\n",
    "    fct_rev"
   ]
  },
  {
   "cell_type": "markdown",
   "metadata": {
    "slideshow": {
     "slide_type": "slide"
    }
   },
   "source": [
    "## Order by count"
   ]
  },
  {
   "cell_type": "markdown",
   "metadata": {
    "slideshow": {
     "slide_type": "slide"
    }
   },
   "source": [
    "## fct_reorder"
   ]
  },
  {
   "cell_type": "code",
   "execution_count": 36,
   "metadata": {},
   "outputs": [
    {
     "name": "stdout",
     "output_type": "stream",
     "text": [
      "\u001b[38;5;246m# A tibble: 171 x 7\u001b[39m\n",
      "    year name                 country     time    race.time MF    country.simple\n",
      "   \u001b[3m\u001b[38;5;246m<dbl>\u001b[39m\u001b[23m \u001b[3m\u001b[38;5;246m<chr>\u001b[39m\u001b[23m                \u001b[3m\u001b[38;5;246m<chr>\u001b[39m\u001b[23m       \u001b[3m\u001b[38;5;246m<chr>\u001b[39m\u001b[23m       \u001b[3m\u001b[38;5;246m<dbl>\u001b[39m\u001b[23m \u001b[3m\u001b[38;5;246m<chr>\u001b[39m\u001b[23m \u001b[3m\u001b[38;5;246m<chr>\u001b[39m\u001b[23m         \n",
      "\u001b[38;5;250m 1\u001b[39m  \u001b[4m2\u001b[24m019 \u001b[38;5;246m\"\u001b[39mLawrence Cherono\u001b[38;5;246m\"\u001b[39m   Kenya       2H 7M …      2.13 Men's Kenya         \n",
      "\u001b[38;5;250m 2\u001b[39m  \u001b[4m2\u001b[24m018 \u001b[38;5;246m\"\u001b[39mYuki Kawauchi\u001b[38;5;246m\"\u001b[39m      Japan       2H 15M…      2.27 Men's Japan         \n",
      "\u001b[38;5;250m 3\u001b[39m  \u001b[4m2\u001b[24m017 \u001b[38;5;246m\"\u001b[39mGeoffrey Kirui\u001b[38;5;246m\"\u001b[39m     Kenya       2H 9M …      2.16 Men's Kenya         \n",
      "\u001b[38;5;250m 4\u001b[39m  \u001b[4m2\u001b[24m016 \u001b[38;5;246m\"\u001b[39mLemi Berhanu\u001b[38;5;246m\"\u001b[39m       Ethiopia    2H 12M…      2.21 Men's Ethiopia      \n",
      "\u001b[38;5;250m 5\u001b[39m  \u001b[4m2\u001b[24m015 \u001b[38;5;246m\"\u001b[39mLelisa Desisa\u001b[38;5;246m\"\u001b[39m      Ethiopia    2H 9M …      2.15 Men's Ethiopia      \n",
      "\u001b[38;5;250m 6\u001b[39m  \u001b[4m2\u001b[24m014 \u001b[38;5;246m\"\u001b[39mMebrahtom \\\"Meb\\\" … United Sta… 2H 8M …      2.14 Men's United States \n",
      "\u001b[38;5;250m 7\u001b[39m  \u001b[4m2\u001b[24m013 \u001b[38;5;246m\"\u001b[39mLelisa Desisa\u001b[38;5;246m\"\u001b[39m      Ethiopia    2H 10M…      2.17 Men's Ethiopia      \n",
      "\u001b[38;5;250m 8\u001b[39m  \u001b[4m2\u001b[24m012 \u001b[38;5;246m\"\u001b[39mWesley Korir\u001b[38;5;246m\"\u001b[39m       Kenya       2H 12M…      2.21 Men's Kenya         \n",
      "\u001b[38;5;250m 9\u001b[39m  \u001b[4m2\u001b[24m011 \u001b[38;5;246m\"\u001b[39mGeoffrey Mutai\u001b[38;5;246m\"\u001b[39m     Kenya       2H 3M …      2.05 Men's Kenya         \n",
      "\u001b[38;5;250m10\u001b[39m  \u001b[4m2\u001b[24m010 \u001b[38;5;246m\"\u001b[39mRobert Kiprono Che… Kenya       2H 5M …      2.10 Men's Kenya         \n",
      "\u001b[38;5;246m# … with 161 more rows\u001b[39m\n"
     ]
    }
   ],
   "source": [
    "df %>% print"
   ]
  },
  {
   "cell_type": "code",
   "execution_count": 37,
   "metadata": {},
   "outputs": [
    {
     "name": "stdout",
     "output_type": "stream",
     "text": [
      "\u001b[38;5;246m# A tibble: 25 x 3\u001b[39m\n",
      "   country               n country_sorted   \n",
      "   \u001b[3m\u001b[38;5;246m<chr>\u001b[39m\u001b[23m             \u001b[3m\u001b[38;5;246m<int>\u001b[39m\u001b[23m \u001b[3m\u001b[38;5;246m<fct>\u001b[39m\u001b[23m            \n",
      "\u001b[38;5;250m 1\u001b[39m Australia             1 Australia        \n",
      "\u001b[38;5;250m 2\u001b[39m Belgium               2 Belgium          \n",
      "\u001b[38;5;250m 3\u001b[39m Canada               17 Canada           \n",
      "\u001b[38;5;250m 4\u001b[39m Colombia              1 Colombia         \n",
      "\u001b[38;5;250m 5\u001b[39m Comm. Ind. States     1 Comm. Ind. States\n",
      "\u001b[38;5;250m 6\u001b[39m England               3 England          \n",
      "\u001b[38;5;250m 7\u001b[39m Ethiopia             14 Ethiopia         \n",
      "\u001b[38;5;250m 8\u001b[39m Finland               7 Finland          \n",
      "\u001b[38;5;250m 9\u001b[39m Germany               6 Germany          \n",
      "\u001b[38;5;250m10\u001b[39m Greece                2 Greece           \n",
      "\u001b[38;5;246m# … with 15 more rows\u001b[39m\n"
     ]
    }
   ],
   "source": [
    "df_N_winners %>% print"
   ]
  },
  {
   "cell_type": "code",
   "execution_count": 35,
   "metadata": {
    "slideshow": {
     "slide_type": "slide"
    }
   },
   "outputs": [
    {
     "data": {
      "image/png": "[encoded data removed]",
      "text/plain": [
       "plot without title"
      ]
     },
     "metadata": {
      "image/png": {
       "height": 450,
       "width": 600
      }
     },
     "output_type": "display_data"
    }
   ],
   "source": [
    "df_N_winners = df %>%\n",
    "    group_by(country) %>%\n",
    "    count() %>%\n",
    "    ungroup() %>%\n",
    "    mutate(country_sorted = country %>% fct_reorder(n, max))\n",
    "\n",
    "p = ggplot(df_N_winners, aes(x = n, y = country_sorted))\n",
    "\n",
    "p = p + geom_col()\n",
    "\n",
    "p"
   ]
  },
  {
   "cell_type": "markdown",
   "metadata": {
    "slideshow": {
     "slide_type": "slide"
    }
   },
   "source": [
    "## Lump low frequency categories"
   ]
  },
  {
   "cell_type": "code",
   "execution_count": 26,
   "metadata": {
    "slideshow": {
     "slide_type": "slide"
    }
   },
   "outputs": [
    {
     "data": {
      "image/png": "[encoded data removed]",
      "text/plain": [
       "plot without title"
      ]
     },
     "metadata": {
      "image/png": {
       "height": 450,
       "width": 600
      }
     },
     "output_type": "display_data"
    }
   ],
   "source": [
    "df_lumped = df %>%\n",
    "    mutate(country_lumped = country %>% fct_lump(n = 7) %>% fct_infreq() %>% fct_rev()) # add fct_infreq and fct_rev\n",
    "\n",
    "p = ggplot(df_lumped, aes(y = country_lumped))\n",
    "\n",
    "p = p + geom_bar()\n",
    "\n",
    "p"
   ]
  },
  {
   "cell_type": "code",
   "execution_count": 22,
   "metadata": {},
   "outputs": [
    {
     "data": {
      "text/html": [
       "<style>\n",
       ".list-inline {list-style: none; margin:0; padding: 0}\n",
       ".list-inline>li {display: inline-block}\n",
       ".list-inline>li:not(:last-child)::after {content: \"\\00b7\"; padding: 0 .5ex}\n",
       "</style>\n",
       "<ol class=list-inline><li>Kenya</li><li>Japan</li><li>Kenya</li><li>Ethiopia</li><li>Ethiopia</li><li>United States</li><li>Ethiopia</li><li>Kenya</li><li>Kenya</li><li>Kenya</li><li>Ethiopia</li><li>Kenya</li><li>Kenya</li><li>Kenya</li><li>Ethiopia</li><li>Kenya</li><li>Kenya</li><li>Kenya</li><li>Other</li><li>Kenya</li><li>Kenya</li><li>Kenya</li><li>Kenya</li><li>Kenya</li><li>Kenya</li><li>Kenya</li><li>Kenya</li><li>Kenya</li><li>Kenya</li><li>Other</li><li>Ethiopia</li><li>Kenya</li><li>Japan</li><li>Other</li><li>Other</li><li>Other</li><li>United States</li><li>United States</li><li>Japan</li><li>United States</li><li>United States</li><li>United States</li><li>Canada</li><li>United States</li><li>United States</li><li>Other</li><li>United States</li><li>Finland</li><li>Other</li><li>Other</li><li>Japan</li><li>United States</li><li>Other</li><li>Japan</li><li>Japan</li><li>Other</li><li>Other</li><li>Finland</li><li>Finland</li><li>Finland</li><li>Finland</li><li>Other</li><li>United States</li><li>Finland</li><li>Japan</li><li>Finland</li><li>Japan</li><li>Other</li><li>Japan</li><li>Other</li><li>Other</li><li>Canada</li><li>Other</li><li>Other</li><li>United States</li><li>Canada</li><li>Canada</li><li>United States</li><li>United States</li><li>Canada</li><li>United States</li><li>United States</li><li>Canada</li><li>United States</li><li>United States</li><li>Canada</li><li>United States</li><li>Germany</li><li>United States</li><li>United States</li><li>Canada</li><li>United States</li><li>United States</li><li>Canada</li><li>United States</li><li>United States</li><li>United States</li><li>United States</li><li>United States</li><li>Other</li><li>United States</li><li>United States</li><li>United States</li><li>United States</li><li>Canada</li><li>Canada</li><li>United States</li><li>United States</li><li>United States</li><li>Canada</li><li>United States</li><li>United States</li><li>Canada</li><li>United States</li><li>United States</li><li>United States</li><li>United States</li><li>United States</li><li>Canada</li><li>Canada</li><li>United States</li><li>Canada</li><li>United States</li><li>Ethiopia</li><li>United States</li><li>Kenya</li><li>Ethiopia</li><li>Kenya</li><li>Ethiopia</li><li>Kenya</li><li>Kenya</li><li>Kenya</li><li>Ethiopia</li><li>Kenya</li><li>Ethiopia</li><li>Other</li><li>Kenya</li><li>Kenya</li><li>Kenya</li><li>Other</li><li>Kenya</li><li>Kenya</li><li>Kenya</li><li>Ethiopia</li><li>Ethiopia</li><li>Ethiopia</li><li>Germany</li><li>Germany</li><li>Germany</li><li>Other</li><li>Other</li><li>Other</li><li>Other</li><li>Other</li><li>Other</li><li>Other</li><li>Other</li><li>United States</li><li>Other</li><li>United States</li><li>Germany</li><li>Other</li><li>Canada</li><li>United States</li><li>United States</li><li>United States</li><li>United States</li><li>Germany</li><li>United States</li><li>United States</li><li>United States</li></ol>\n",
       "\n",
       "<details>\n",
       "\t<summary style=display:list-item;cursor:pointer>\n",
       "\t\t<strong>Levels</strong>:\n",
       "\t</summary>\n",
       "\t<style>\n",
       "\t.list-inline {list-style: none; margin:0; padding: 0}\n",
       "\t.list-inline>li {display: inline-block}\n",
       "\t.list-inline>li:not(:last-child)::after {content: \"\\00b7\"; padding: 0 .5ex}\n",
       "\t</style>\n",
       "\t<ol class=list-inline><li>'Canada'</li><li>'Ethiopia'</li><li>'Finland'</li><li>'Germany'</li><li>'Japan'</li><li>'Kenya'</li><li>'United States'</li><li>'Other'</li></ol>\n",
       "</details>"
      ],
      "text/latex": [
       "\\begin{enumerate*}\n",
       "\\item Kenya\n",
       "\\item Japan\n",
       "\\item Kenya\n",
       "\\item Ethiopia\n",
       "\\item Ethiopia\n",
       "\\item United States\n",
       "\\item Ethiopia\n",
       "\\item Kenya\n",
       "\\item Kenya\n",
       "\\item Kenya\n",
       "\\item Ethiopia\n",
       "\\item Kenya\n",
       "\\item Kenya\n",
       "\\item Kenya\n",
       "\\item Ethiopia\n",
       "\\item Kenya\n",
       "\\item Kenya\n",
       "\\item Kenya\n",
       "\\item Other\n",
       "\\item Kenya\n",
       "\\item Kenya\n",
       "\\item Kenya\n",
       "\\item Kenya\n",
       "\\item Kenya\n",
       "\\item Kenya\n",
       "\\item Kenya\n",
       "\\item Kenya\n",
       "\\item Kenya\n",
       "\\item Kenya\n",
       "\\item Other\n",
       "\\item Ethiopia\n",
       "\\item Kenya\n",
       "\\item Japan\n",
       "\\item Other\n",
       "\\item Other\n",
       "\\item Other\n",
       "\\item United States\n",
       "\\item United States\n",
       "\\item Japan\n",
       "\\item United States\n",
       "\\item United States\n",
       "\\item United States\n",
       "\\item Canada\n",
       "\\item United States\n",
       "\\item United States\n",
       "\\item Other\n",
       "\\item United States\n",
       "\\item Finland\n",
       "\\item Other\n",
       "\\item Other\n",
       "\\item Japan\n",
       "\\item United States\n",
       "\\item Other\n",
       "\\item Japan\n",
       "\\item Japan\n",
       "\\item Other\n",
       "\\item Other\n",
       "\\item Finland\n",
       "\\item Finland\n",
       "\\item Finland\n",
       "\\item Finland\n",
       "\\item Other\n",
       "\\item United States\n",
       "\\item Finland\n",
       "\\item Japan\n",
       "\\item Finland\n",
       "\\item Japan\n",
       "\\item Other\n",
       "\\item Japan\n",
       "\\item Other\n",
       "\\item Other\n",
       "\\item Canada\n",
       "\\item Other\n",
       "\\item Other\n",
       "\\item United States\n",
       "\\item Canada\n",
       "\\item Canada\n",
       "\\item United States\n",
       "\\item United States\n",
       "\\item Canada\n",
       "\\item United States\n",
       "\\item United States\n",
       "\\item Canada\n",
       "\\item United States\n",
       "\\item United States\n",
       "\\item Canada\n",
       "\\item United States\n",
       "\\item Germany\n",
       "\\item United States\n",
       "\\item United States\n",
       "\\item Canada\n",
       "\\item United States\n",
       "\\item United States\n",
       "\\item Canada\n",
       "\\item United States\n",
       "\\item United States\n",
       "\\item United States\n",
       "\\item United States\n",
       "\\item United States\n",
       "\\item Other\n",
       "\\item United States\n",
       "\\item United States\n",
       "\\item United States\n",
       "\\item United States\n",
       "\\item Canada\n",
       "\\item Canada\n",
       "\\item United States\n",
       "\\item United States\n",
       "\\item United States\n",
       "\\item Canada\n",
       "\\item United States\n",
       "\\item United States\n",
       "\\item Canada\n",
       "\\item United States\n",
       "\\item United States\n",
       "\\item United States\n",
       "\\item United States\n",
       "\\item United States\n",
       "\\item Canada\n",
       "\\item Canada\n",
       "\\item United States\n",
       "\\item Canada\n",
       "\\item United States\n",
       "\\item Ethiopia\n",
       "\\item United States\n",
       "\\item Kenya\n",
       "\\item Ethiopia\n",
       "\\item Kenya\n",
       "\\item Ethiopia\n",
       "\\item Kenya\n",
       "\\item Kenya\n",
       "\\item Kenya\n",
       "\\item Ethiopia\n",
       "\\item Kenya\n",
       "\\item Ethiopia\n",
       "\\item Other\n",
       "\\item Kenya\n",
       "\\item Kenya\n",
       "\\item Kenya\n",
       "\\item Other\n",
       "\\item Kenya\n",
       "\\item Kenya\n",
       "\\item Kenya\n",
       "\\item Ethiopia\n",
       "\\item Ethiopia\n",
       "\\item Ethiopia\n",
       "\\item Germany\n",
       "\\item Germany\n",
       "\\item Germany\n",
       "\\item Other\n",
       "\\item Other\n",
       "\\item Other\n",
       "\\item Other\n",
       "\\item Other\n",
       "\\item Other\n",
       "\\item Other\n",
       "\\item Other\n",
       "\\item United States\n",
       "\\item Other\n",
       "\\item United States\n",
       "\\item Germany\n",
       "\\item Other\n",
       "\\item Canada\n",
       "\\item United States\n",
       "\\item United States\n",
       "\\item United States\n",
       "\\item United States\n",
       "\\item Germany\n",
       "\\item United States\n",
       "\\item United States\n",
       "\\item United States\n",
       "\\end{enumerate*}\n",
       "\n",
       "\\emph{Levels}: \\begin{enumerate*}\n",
       "\\item 'Canada'\n",
       "\\item 'Ethiopia'\n",
       "\\item 'Finland'\n",
       "\\item 'Germany'\n",
       "\\item 'Japan'\n",
       "\\item 'Kenya'\n",
       "\\item 'United States'\n",
       "\\item 'Other'\n",
       "\\end{enumerate*}\n"
      ],
      "text/markdown": [
       "1. Kenya\n",
       "2. Japan\n",
       "3. Kenya\n",
       "4. Ethiopia\n",
       "5. Ethiopia\n",
       "6. United States\n",
       "7. Ethiopia\n",
       "8. Kenya\n",
       "9. Kenya\n",
       "10. Kenya\n",
       "11. Ethiopia\n",
       "12. Kenya\n",
       "13. Kenya\n",
       "14. Kenya\n",
       "15. Ethiopia\n",
       "16. Kenya\n",
       "17. Kenya\n",
       "18. Kenya\n",
       "19. Other\n",
       "20. Kenya\n",
       "21. Kenya\n",
       "22. Kenya\n",
       "23. Kenya\n",
       "24. Kenya\n",
       "25. Kenya\n",
       "26. Kenya\n",
       "27. Kenya\n",
       "28. Kenya\n",
       "29. Kenya\n",
       "30. Other\n",
       "31. Ethiopia\n",
       "32. Kenya\n",
       "33. Japan\n",
       "34. Other\n",
       "35. Other\n",
       "36. Other\n",
       "37. United States\n",
       "38. United States\n",
       "39. Japan\n",
       "40. United States\n",
       "41. United States\n",
       "42. United States\n",
       "43. Canada\n",
       "44. United States\n",
       "45. United States\n",
       "46. Other\n",
       "47. United States\n",
       "48. Finland\n",
       "49. Other\n",
       "50. Other\n",
       "51. Japan\n",
       "52. United States\n",
       "53. Other\n",
       "54. Japan\n",
       "55. Japan\n",
       "56. Other\n",
       "57. Other\n",
       "58. Finland\n",
       "59. Finland\n",
       "60. Finland\n",
       "61. Finland\n",
       "62. Other\n",
       "63. United States\n",
       "64. Finland\n",
       "65. Japan\n",
       "66. Finland\n",
       "67. Japan\n",
       "68. Other\n",
       "69. Japan\n",
       "70. Other\n",
       "71. Other\n",
       "72. Canada\n",
       "73. Other\n",
       "74. Other\n",
       "75. United States\n",
       "76. Canada\n",
       "77. Canada\n",
       "78. United States\n",
       "79. United States\n",
       "80. Canada\n",
       "81. United States\n",
       "82. United States\n",
       "83. Canada\n",
       "84. United States\n",
       "85. United States\n",
       "86. Canada\n",
       "87. United States\n",
       "88. Germany\n",
       "89. United States\n",
       "90. United States\n",
       "91. Canada\n",
       "92. United States\n",
       "93. United States\n",
       "94. Canada\n",
       "95. United States\n",
       "96. United States\n",
       "97. United States\n",
       "98. United States\n",
       "99. United States\n",
       "100. Other\n",
       "101. United States\n",
       "102. United States\n",
       "103. United States\n",
       "104. United States\n",
       "105. Canada\n",
       "106. Canada\n",
       "107. United States\n",
       "108. United States\n",
       "109. United States\n",
       "110. Canada\n",
       "111. United States\n",
       "112. United States\n",
       "113. Canada\n",
       "114. United States\n",
       "115. United States\n",
       "116. United States\n",
       "117. United States\n",
       "118. United States\n",
       "119. Canada\n",
       "120. Canada\n",
       "121. United States\n",
       "122. Canada\n",
       "123. United States\n",
       "124. Ethiopia\n",
       "125. United States\n",
       "126. Kenya\n",
       "127. Ethiopia\n",
       "128. Kenya\n",
       "129. Ethiopia\n",
       "130. Kenya\n",
       "131. Kenya\n",
       "132. Kenya\n",
       "133. Ethiopia\n",
       "134. Kenya\n",
       "135. Ethiopia\n",
       "136. Other\n",
       "137. Kenya\n",
       "138. Kenya\n",
       "139. Kenya\n",
       "140. Other\n",
       "141. Kenya\n",
       "142. Kenya\n",
       "143. Kenya\n",
       "144. Ethiopia\n",
       "145. Ethiopia\n",
       "146. Ethiopia\n",
       "147. Germany\n",
       "148. Germany\n",
       "149. Germany\n",
       "150. Other\n",
       "151. Other\n",
       "152. Other\n",
       "153. Other\n",
       "154. Other\n",
       "155. Other\n",
       "156. Other\n",
       "157. Other\n",
       "158. United States\n",
       "159. Other\n",
       "160. United States\n",
       "161. Germany\n",
       "162. Other\n",
       "163. Canada\n",
       "164. United States\n",
       "165. United States\n",
       "166. United States\n",
       "167. United States\n",
       "168. Germany\n",
       "169. United States\n",
       "170. United States\n",
       "171. United States\n",
       "\n",
       "\n",
       "\n",
       "**Levels**: 1. 'Canada'\n",
       "2. 'Ethiopia'\n",
       "3. 'Finland'\n",
       "4. 'Germany'\n",
       "5. 'Japan'\n",
       "6. 'Kenya'\n",
       "7. 'United States'\n",
       "8. 'Other'\n",
       "\n",
       "\n"
      ],
      "text/plain": [
       "  [1] Kenya         Japan         Kenya         Ethiopia      Ethiopia     \n",
       "  [6] United States Ethiopia      Kenya         Kenya         Kenya        \n",
       " [11] Ethiopia      Kenya         Kenya         Kenya         Ethiopia     \n",
       " [16] Kenya         Kenya         Kenya         Other         Kenya        \n",
       " [21] Kenya         Kenya         Kenya         Kenya         Kenya        \n",
       " [26] Kenya         Kenya         Kenya         Kenya         Other        \n",
       " [31] Ethiopia      Kenya         Japan         Other         Other        \n",
       " [36] Other         United States United States Japan         United States\n",
       " [41] United States United States Canada        United States United States\n",
       " [46] Other         United States Finland       Other         Other        \n",
       " [51] Japan         United States Other         Japan         Japan        \n",
       " [56] Other         Other         Finland       Finland       Finland      \n",
       " [61] Finland       Other         United States Finland       Japan        \n",
       " [66] Finland       Japan         Other         Japan         Other        \n",
       " [71] Other         Canada        Other         Other         United States\n",
       " [76] Canada        Canada        United States United States Canada       \n",
       " [81] United States United States Canada        United States United States\n",
       " [86] Canada        United States Germany       United States United States\n",
       " [91] Canada        United States United States Canada        United States\n",
       " [96] United States United States United States United States Other        \n",
       "[101] United States United States United States United States Canada       \n",
       "[106] Canada        United States United States United States Canada       \n",
       "[111] United States United States Canada        United States United States\n",
       "[116] United States United States United States Canada        Canada       \n",
       "[121] United States Canada        United States Ethiopia      United States\n",
       "[126] Kenya         Ethiopia      Kenya         Ethiopia      Kenya        \n",
       "[131] Kenya         Kenya         Ethiopia      Kenya         Ethiopia     \n",
       "[136] Other         Kenya         Kenya         Kenya         Other        \n",
       "[141] Kenya         Kenya         Kenya         Ethiopia      Ethiopia     \n",
       "[146] Ethiopia      Germany       Germany       Germany       Other        \n",
       "[151] Other         Other         Other         Other         Other        \n",
       "[156] Other         Other         United States Other         United States\n",
       "[161] Germany       Other         Canada        United States United States\n",
       "[166] United States United States Germany       United States United States\n",
       "[171] United States\n",
       "Levels: Canada Ethiopia Finland Germany Japan Kenya United States Other"
      ]
     },
     "metadata": {},
     "output_type": "display_data"
    }
   ],
   "source": [
    "df_lumped$country_lumped"
   ]
  },
  {
   "cell_type": "markdown",
   "metadata": {
    "slideshow": {
     "slide_type": "slide"
    }
   },
   "source": [
    "## Order by an aggregate value"
   ]
  },
  {
   "cell_type": "code",
   "execution_count": 30,
   "metadata": {
    "slideshow": {
     "slide_type": "slide"
    }
   },
   "outputs": [
    {
     "data": {
      "image/png": "[encoded data removed]",
      "text/plain": [
       "plot without title"
      ]
     },
     "metadata": {
      "image/png": {
       "height": 450,
       "width": 600
      }
     },
     "output_type": "display_data"
    }
   ],
   "source": [
    "df.sorted = df %>%\n",
    "    filter(MF == \"Men's\") %>%\n",
    "    mutate(country = country %>% fct_lump(n = 7)) %>%\n",
    "    mutate(country = country %>% fct_reorder(race.time, median)) # can we force \"Other\" to be last (hint fct_relevel)\n",
    "\n",
    "p = ggplot(df.sorted, aes(x = country, y = race.time))\n",
    "\n",
    "p = p + geom_point(position = position_jitter(h = 0, w = 0.15)) + coord_flip()\n",
    "\n",
    "p"
   ]
  },
  {
   "cell_type": "markdown",
   "metadata": {
    "slideshow": {
     "slide_type": "slide"
    }
   },
   "source": [
    "## Order by input"
   ]
  },
  {
   "cell_type": "markdown",
   "metadata": {
    "slideshow": {
     "slide_type": "slide"
    }
   },
   "source": [
    "### fct_inorder"
   ]
  },
  {
   "cell_type": "code",
   "execution_count": 3,
   "metadata": {
    "slideshow": {
     "slide_type": "slide"
    }
   },
   "outputs": [],
   "source": [
    "# Let's make a \"geom_col\" chart from the marathon data where the country column is already \"counted\" \n",
    "# but this time let's use arrange and fct_inorder to sort the levels"
   ]
  }
 ],
 "metadata": {
  "celltoolbar": "Slideshow",
  "kernelspec": {
   "display_name": "R",
   "language": "R",
   "name": "ir"
  },
  "language_info": {
   "codemirror_mode": "r",
   "file_extension": ".r",
   "mimetype": "text/x-r-source",
   "name": "R",
   "pygments_lexer": "r",
   "version": "3.6.3"
  }
 },
 "nbformat": 4,
 "nbformat_minor": 2
}
