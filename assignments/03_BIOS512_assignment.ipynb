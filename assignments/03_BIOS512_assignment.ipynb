{
 "cells": [
  {
   "cell_type": "markdown",
   "metadata": {},
   "source": [
    "Load the `tidyverse` and the `palmerpenguins` package."
   ]
  },
  {
   "cell_type": "code",
   "execution_count": null,
   "metadata": {},
   "outputs": [],
   "source": [
    "options(repr.plot.res = 300)\n",
    "\n",
    "# load your libraries in this cell\n",
    "\n"
   ]
  },
  {
   "cell_type": "markdown",
   "metadata": {},
   "source": [
    "This cell produces a table called `penguins_long` that you'll use to make the chart below."
   ]
  },
  {
   "cell_type": "code",
   "execution_count": null,
   "metadata": {},
   "outputs": [],
   "source": [
    "# uncomment the following lines\n",
    "\n",
    "# penguins_long = penguins %>% pivot_longer(-c(species, island, sex, year)) %>% drop_na()\n",
    "# penguins_long %>% head"
   ]
  },
  {
   "cell_type": "markdown",
   "metadata": {},
   "source": [
    "Re-create the following figure.\n",
    "\n",
    "These functions will come in handy:\n",
    "- `geom_point`\n",
    "- `facet_wrap`\n",
    "- `position_jitter`\n",
    "\n",
    "This line will add the `median` lines to the chart.\n",
    "\n",
    "```R\n",
    "p = p + stat_summary(fun = median, \n",
    "                     fun.min = median, \n",
    "                     fun.max = median, \n",
    "                     geom = \"crossbar\", \n",
    "                     width = 0.75, \n",
    "                     size = 0.2,\n",
    "                     mapping = aes(group = species))\n",
    "```\n",
    "\n",
    "This line adjusts the x-axis text.\n",
    "\n",
    "```R\n",
    "p = p + theme(axis.text.x = element_text(hjust = 1, angle = 45))\n",
    "```"
   ]
  },
  {
   "cell_type": "markdown",
   "metadata": {},
   "source": [
    "<img src=\"03_assignment_example.png\" />"
   ]
  },
  {
   "cell_type": "code",
   "execution_count": null,
   "metadata": {},
   "outputs": [],
   "source": [
    "options(repr.plot.width = 8, repr.plot.height = 3)\n",
    "\n"
   ]
  }
 ],
 "metadata": {
  "kernelspec": {
   "display_name": "R",
   "language": "R",
   "name": "ir"
  },
  "language_info": {
   "codemirror_mode": "r",
   "file_extension": ".r",
   "mimetype": "text/x-r-source",
   "name": "R",
   "pygments_lexer": "r",
   "version": "4.0.0"
  }
 },
 "nbformat": 4,
 "nbformat_minor": 4
}
