{
 "cells": [
  {
   "cell_type": "code",
   "execution_count": null,
   "metadata": {},
   "outputs": [],
   "source": [
    "library(\"tidyverse\")\n",
    "library(\"ggrepel\")"
   ]
  },
  {
   "cell_type": "markdown",
   "metadata": {},
   "source": [
    "# Assignment #4\n",
    "\n",
    "## Due on October 22nd, 2020"
   ]
  },
  {
   "cell_type": "markdown",
   "metadata": {},
   "source": [
    "Uncomment and run the following cell to set up the marathon data. 👇"
   ]
  },
  {
   "cell_type": "code",
   "execution_count": null,
   "metadata": {},
   "outputs": [],
   "source": [
    "# df_marathon = read.csv('https://raw.githubusercontent.com/chuckpr/BIOS512/main/in-class-exercises/data/marathon.csv')\n",
    "\n",
    "# df_filtered = df_marathon %>% \n",
    "#     filter(country %in% c('United States', 'Kenya', 'Ethiopia', 'Japan'))\n",
    "\n",
    "# df_country = df_marathon %>%\n",
    "#     filter(country %in% c('United States', 'Kenya', 'Ethiopia', 'Japan')) %>%\n",
    "#     group_by(country, MF) %>%\n",
    "#     summarize(race.time = mean(race.time), year = mean(year))"
   ]
  },
  {
   "cell_type": "markdown",
   "metadata": {},
   "source": [
    "This cell represents the progress we made on the marathon visualization in class. Add theme adjustments to create a chart with your own style. \n",
    "\n",
    "**This is a great resource for theme elements that you can adjust:** https://ggplot2.tidyverse.org/reference/theme.html\n",
    "\n",
    "Here is a nice gallery of themes that you might base your work on: https://yutannihilation.github.io/allYourFigureAreBelongToUs/ggthemes/\n",
    "\n",
    "At minimum adjust the following chart attributes:\n",
    "- `plot.background` and `panel.background`\n",
    "- Use `labs` to improve the x and y-axis labels\n",
    "- Add a title and subtitle with the `labs` or the `ggtitle` function ([hint](https://ggplot2.tidyverse.org/reference/labs.html))\n",
    "\n",
    "If you want your title to line up with the left side of you \"plot\" instead of your \"panel\" use this inside your `theme` function:\n",
    "```R\n",
    "plot.title.position = \"plot\"\n",
    "```"
   ]
  },
  {
   "cell_type": "code",
   "execution_count": null,
   "metadata": {},
   "outputs": [],
   "source": [
    "options(repr.plot.width = 5, repr.plot.height = 4.5, repr.plot.res = 300)\n",
    "\n",
    "p = ggplot(df_marathon, aes(x = year, y = race.time))\n",
    "\n",
    "p = p + geom_point(color = 'gray50')\n",
    "\n",
    "p = p + geom_point(data = df_filtered, aes(color = country))\n",
    "\n",
    "p = p + geom_text_repel(\n",
    "    segment.color = 'transparent',\n",
    "    nudge_y = 0.2,\n",
    "    data = df_country, \n",
    "    aes(label = country, color = country)\n",
    ")\n",
    "\n",
    "p = p + facet_wrap(~MF, scales = \"free\", ncol = 1)\n",
    "\n",
    "p = p + theme(legend.position = 'none')\n",
    "\n",
    "p"
   ]
  },
  {
   "cell_type": "markdown",
   "metadata": {},
   "source": [
    "Here is my solution..."
   ]
  },
  {
   "cell_type": "markdown",
   "metadata": {},
   "source": [
    "<img src=\"./04_example.png\" style=\"width: 800px;\" />"
   ]
  }
 ],
 "metadata": {
  "kernelspec": {
   "display_name": "R",
   "language": "R",
   "name": "ir"
  },
  "language_info": {
   "codemirror_mode": "r",
   "file_extension": ".r",
   "mimetype": "text/x-r-source",
   "name": "R",
   "pygments_lexer": "r",
   "version": "4.0.0"
  }
 },
 "nbformat": 4,
 "nbformat_minor": 4
}
