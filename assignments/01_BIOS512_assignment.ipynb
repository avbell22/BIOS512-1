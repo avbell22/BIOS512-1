{
 "cells": [
  {
   "cell_type": "markdown",
   "metadata": {},
   "source": [
    "# BIOS512 Assignment #1"
   ]
  },
  {
   "cell_type": "markdown",
   "metadata": {},
   "source": [
    "This assignment will be submitted via GitHub. Once complete, download your notebook and upload it to your GitHub repository for the class.\n",
    "\n",
    "*Note:*\n",
    "- To download a notebook with Jupyter Lab, right click on the notebook in the sidebar file browser on the left and select `Download`.\n",
    "- To download a notebook in the Jupter Notebook interface, click `File > Download As > Notebook (.ipynb)`.\n",
    "\n"
   ]
  },
  {
   "cell_type": "markdown",
   "metadata": {},
   "source": [
    "Import the `tidyverse` and the `palmerpenguins` data into your R session."
   ]
  },
  {
   "cell_type": "code",
   "execution_count": null,
   "metadata": {},
   "outputs": [],
   "source": [
    "# library('tidyverse')\n",
    "# library('palmerpenguins')\n",
    "# options(repr.plot.res = 250, repr.plot.height = 3, repr.plot.width = 4)"
   ]
  },
  {
   "cell_type": "markdown",
   "metadata": {},
   "source": [
    "What `tidyverse` functions have conflicts with other functions in your R session? \n",
    "\n",
    "**Answer in a markdown cell using the bulleted list list syntax.**"
   ]
  },
  {
   "cell_type": "code",
   "execution_count": null,
   "metadata": {},
   "outputs": [],
   "source": [
    "# remove this comment and answer in this cell (don't forget to switch it to Markdown!)\n",
    "\n"
   ]
  },
  {
   "cell_type": "markdown",
   "metadata": {},
   "source": [
    "Preview the `penguins` dataset (hint: use the `head` function)."
   ]
  },
  {
   "cell_type": "code",
   "execution_count": null,
   "metadata": {},
   "outputs": [],
   "source": []
  },
  {
   "cell_type": "markdown",
   "metadata": {},
   "source": [
    "Using the `penguins` dataset, make a scatter chart with `bill_length_mm` on the x-axis and `bill_depth_mm` on the y-axis."
   ]
  },
  {
   "cell_type": "code",
   "execution_count": null,
   "metadata": {},
   "outputs": [],
   "source": []
  },
  {
   "cell_type": "markdown",
   "metadata": {},
   "source": [
    "Make the same plot but *encode* the `species` column by the color of the points."
   ]
  },
  {
   "cell_type": "code",
   "execution_count": null,
   "metadata": {},
   "outputs": [],
   "source": []
  },
  {
   "cell_type": "markdown",
   "metadata": {},
   "source": [
    "Use `facet_wrap` to make the following figure 👇 where the data is **facetted** by the `drv` column.\n",
    "\n",
    "(I used `scale_color_brewer(palette = \"Set2\")` to get the 🎨 **colors** 🎨 below *but you can you the default colors if you want* 😄)"
   ]
  },
  {
   "cell_type": "markdown",
   "metadata": {},
   "source": [
    "<img src=\"01_facet_plot.png\" style=\"width: 800px\" />"
   ]
  },
  {
   "cell_type": "markdown",
   "metadata": {},
   "source": [
    "Hints:\n",
    "- I've included the code to make the cell output wider to acccomodate multiple panels.\n",
    "- This code will be the same as your chart above execept for an additional `facet_wrap` layer.\n",
    "- The **tilde ~** key is found in the top-left of your keyboard ⌨️."
   ]
  },
  {
   "cell_type": "code",
   "execution_count": null,
   "metadata": {},
   "outputs": [],
   "source": [
    "# options(repr.plot.width = 8)"
   ]
  }
 ],
 "metadata": {
  "kernelspec": {
   "display_name": "R",
   "language": "R",
   "name": "ir"
  },
  "language_info": {
   "codemirror_mode": "r",
   "file_extension": ".r",
   "mimetype": "text/x-r-source",
   "name": "R",
   "pygments_lexer": "r",
   "version": "4.1.1"
  }
 },
 "nbformat": 4,
 "nbformat_minor": 4
}
